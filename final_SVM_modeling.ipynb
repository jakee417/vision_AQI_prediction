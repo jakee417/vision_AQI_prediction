{
 "cells": [
  {
   "cell_type": "markdown",
   "metadata": {
    "id": "P9R-6eaOdwa6"
   },
   "source": [
    "## Setup"
   ]
  },
  {
   "cell_type": "code",
   "execution_count": 1,
   "metadata": {
    "executionInfo": {
     "elapsed": 3366,
     "status": "ok",
     "timestamp": 1605671431797,
     "user": {
      "displayName": "Jake Edward Taylor",
      "photoUrl": "",
      "userId": "03706230206312910017"
     },
     "user_tz": 480
    },
    "id": "f6f8HLa_pxzE"
   },
   "outputs": [],
   "source": [
    "# Libraries\n",
    "import sklearn\n",
    "import tensorflow as tf\n",
    "from tensorflow import keras\n",
    "import numpy as np\n",
    "import pandas as pd\n",
    "import os\n",
    "\n",
    "# Seeds\n",
    "np.random.seed(42)\n",
    "tf.random.set_seed(42)\n",
    "\n",
    "# Plotting\n",
    "%matplotlib inline\n",
    "import matplotlib as mpl\n",
    "import matplotlib.pyplot as plt\n",
    "mpl.rc('axes', labelsize=14)\n",
    "mpl.rc('xtick', labelsize=12)\n",
    "mpl.rc('ytick', labelsize=12)"
   ]
  },
  {
   "cell_type": "code",
   "execution_count": 2,
   "metadata": {
    "colab": {
     "base_uri": "https://localhost:8080/"
    },
    "executionInfo": {
     "elapsed": 25143,
     "status": "ok",
     "timestamp": 1605671458561,
     "user": {
      "displayName": "Jake Edward Taylor",
      "photoUrl": "",
      "userId": "03706230206312910017"
     },
     "user_tz": 480
    },
    "id": "UfoCE6cYp1r2",
    "outputId": "3b396e67-cf41-4289-92bb-66ead811c0bf"
   },
   "outputs": [
    {
     "name": "stdout",
     "output_type": "stream",
     "text": [
      "Mounted at /content/drive/\n"
     ]
    }
   ],
   "source": [
    "from google.colab import drive\n",
    "drive.mount('/content/drive/')\n",
    "# Replace this with your own root\n",
    "project_root_dir = 'your_drive_here'"
   ]
  },
  {
   "cell_type": "code",
   "execution_count": 3,
   "metadata": {
    "executionInfo": {
     "elapsed": 658,
     "status": "ok",
     "timestamp": 1605671480530,
     "user": {
      "displayName": "Jake Edward Taylor",
      "photoUrl": "",
      "userId": "03706230206312910017"
     },
     "user_tz": 480
    },
    "id": "VxFaeEiup36_"
   },
   "outputs": [],
   "source": [
    "aqi_dir = os.path.join(project_root_dir, 'aqi_data', 'final_data')\n",
    "experiments_dir = os.path.join(project_root_dir, 'experiments')\n",
    "img_dir = os.path.join(project_root_dir, 'img_data')"
   ]
  },
  {
   "cell_type": "markdown",
   "metadata": {
    "id": "bPA16bZjuSNG"
   },
   "source": [
    "# Simple pixel-level softmax"
   ]
  },
  {
   "cell_type": "markdown",
   "metadata": {
    "id": "nDjuAKLAHN5O"
   },
   "source": [
    "## Preliminaries\n",
    "Create test and training sets"
   ]
  },
  {
   "cell_type": "code",
   "execution_count": 4,
   "metadata": {
    "executionInfo": {
     "elapsed": 3652,
     "status": "ok",
     "timestamp": 1605671620671,
     "user": {
      "displayName": "Jake Edward Taylor",
      "photoUrl": "",
      "userId": "03706230206312910017"
     },
     "user_tz": 480
    },
    "id": "epMoqgHZuNT4"
   },
   "outputs": [],
   "source": [
    "# Load our train, validation, and test datasets\n",
    "train = np.load(os.path.join(experiments_dir, 'train.npz'))\n",
    "valid = np.load(os.path.join(experiments_dir, 'valid.npz'))\n",
    "test = np.load(os.path.join(experiments_dir, 'test.npz'))"
   ]
  },
  {
   "cell_type": "code",
   "execution_count": 5,
   "metadata": {
    "executionInfo": {
     "elapsed": 476,
     "status": "ok",
     "timestamp": 1605671621930,
     "user": {
      "displayName": "Jake Edward Taylor",
      "photoUrl": "",
      "userId": "03706230206312910017"
     },
     "user_tz": 480
    },
    "id": "H8D62ZhEun5a"
   },
   "outputs": [],
   "source": [
    "# Compute the weights that will help with class imbalance\n",
    "from collections import Counter\n",
    "item_ct = Counter(train['y'])\n",
    "max_ct = float(max(item_ct.values()))\n",
    "class_wts = {class_id: max_ct / num_img for class_id, num_img in item_ct.items()}"
   ]
  },
  {
   "cell_type": "code",
   "execution_count": 6,
   "metadata": {
    "executionInfo": {
     "elapsed": 63253,
     "status": "ok",
     "timestamp": 1605671686644,
     "user": {
      "displayName": "Jake Edward Taylor",
      "photoUrl": "",
      "userId": "03706230206312910017"
     },
     "user_tz": 480
    },
    "id": "UU2nAxzyu-p0"
   },
   "outputs": [],
   "source": [
    "# Center and standardize \n",
    "x_mean = train['x'].mean(axis = 0, keepdims = True)\n",
    "x_std = train['x'].std(axis = 0, keepdims = True) + 1e-7\n",
    "x_train = (train['x'] - x_mean) / x_std\n",
    "x_valid = (valid['x'] - x_mean) / x_std"
   ]
  },
  {
   "cell_type": "code",
   "execution_count": 7,
   "metadata": {
    "executionInfo": {
     "elapsed": 338,
     "status": "ok",
     "timestamp": 1605671687017,
     "user": {
      "displayName": "Jake Edward Taylor",
      "photoUrl": "",
      "userId": "03706230206312910017"
     },
     "user_tz": 480
    },
    "id": "KbBGaD7Kvliu"
   },
   "outputs": [],
   "source": [
    "# Flatten the vector \n",
    "x_train_flattened = x_train.reshape(x_train.shape[0], -1)\n",
    "x_valid_flattened = x_valid.reshape(x_valid.shape[0], -1)"
   ]
  },
  {
   "cell_type": "code",
   "execution_count": 8,
   "metadata": {
    "colab": {
     "base_uri": "https://localhost:8080/"
    },
    "executionInfo": {
     "elapsed": 509,
     "status": "ok",
     "timestamp": 1605671694129,
     "user": {
      "displayName": "Jake Edward Taylor",
      "photoUrl": "",
      "userId": "03706230206312910017"
     },
     "user_tz": 480
    },
    "id": "FmzXFwH6z0j-",
    "outputId": "a8698e23-f8f7-40f4-d454-385961595ebc"
   },
   "outputs": [
    {
     "data": {
      "text/plain": [
       "27"
      ]
     },
     "execution_count": 8,
     "metadata": {
      "tags": []
     },
     "output_type": "execute_result"
    }
   ],
   "source": [
    "# Since we are limited in RAM in colab, delete the old structure\n",
    "# and garbage collect\n",
    "from gc import collect\n",
    "del x_train, x_valid\n",
    "collect()"
   ]
  },
  {
   "cell_type": "code",
   "execution_count": 9,
   "metadata": {
    "executionInfo": {
     "elapsed": 6224,
     "status": "ok",
     "timestamp": 1605671703058,
     "user": {
      "displayName": "Jake Edward Taylor",
      "photoUrl": "",
      "userId": "03706230206312910017"
     },
     "user_tz": 480
    },
    "id": "Ru2WTTpVwN-_"
   },
   "outputs": [],
   "source": [
    "# Put the validation and test sets together\n",
    "x_all = np.concatenate((x_train_flattened, x_valid_flattened))\n",
    "y_all = np.concatenate((train['y'], valid['y']))"
   ]
  },
  {
   "cell_type": "code",
   "execution_count": 10,
   "metadata": {
    "executionInfo": {
     "elapsed": 778,
     "status": "ok",
     "timestamp": 1605671759711,
     "user": {
      "displayName": "Jake Edward Taylor",
      "photoUrl": "",
      "userId": "03706230206312910017"
     },
     "user_tz": 480
    },
    "id": "8H9lVVML2dNx"
   },
   "outputs": [],
   "source": [
    "collect()\n",
    "del x_train_flattened, x_valid_flattened"
   ]
  },
  {
   "cell_type": "code",
   "execution_count": 11,
   "metadata": {
    "colab": {
     "base_uri": "https://localhost:8080/"
    },
    "executionInfo": {
     "elapsed": 355,
     "status": "ok",
     "timestamp": 1605671760631,
     "user": {
      "displayName": "Jake Edward Taylor",
      "photoUrl": "",
      "userId": "03706230206312910017"
     },
     "user_tz": 480
    },
    "id": "dALxMDePTdTM",
    "outputId": "b7be060b-3d87-40a8-b2ee-0b44f8d44c59"
   },
   "outputs": [
    {
     "data": {
      "text/plain": [
       "(4444, 150528)"
      ]
     },
     "execution_count": 11,
     "metadata": {
      "tags": []
     },
     "output_type": "execute_result"
    }
   ],
   "source": [
    "x_all.shape"
   ]
  },
  {
   "cell_type": "markdown",
   "metadata": {
    "id": "p8uL7DIbHQes"
   },
   "source": [
    "## SGD Classifier"
   ]
  },
  {
   "cell_type": "markdown",
   "metadata": {
    "id": "1y8EeK5kH6RF"
   },
   "source": [
    "### Grid search\n",
    "Perform a grid search to find the best hyperparameter for the regularization and penalty"
   ]
  },
  {
   "cell_type": "code",
   "execution_count": null,
   "metadata": {
    "id": "4u1ku9xWHWl8"
   },
   "outputs": [],
   "source": [
    "from sklearn.linear_model import SGDClassifier\n",
    "from sklearn.model_selection import GridSearchCV\n",
    "\n",
    "param_grid = [{'alpha' : [0.0001, 0.001, 0.01, 0.1, 1, 10, 100]}, # try over various values of regularization\n",
    "              {'l1_ratio' : [0, 0.25, 0.5, 0.75, 1]}] # try different mixtures of L1 and L2 penalty\n",
    "\n",
    "sgd_clf = SGDClassifier(random_state = 42, class_weight = class_wts, penalty = 'elasticnet')\n",
    "sgd_clf = GridSearchCV(sgd_clf, param_grid, cv = 3, return_train_score = True)\n",
    "sgd_clf.fit(x_all, y_all)"
   ]
  },
  {
   "cell_type": "markdown",
   "metadata": {
    "id": "SmUyaRtqHUZw"
   },
   "source": [
    "## Evaluation"
   ]
  },
  {
   "cell_type": "code",
   "execution_count": 17,
   "metadata": {
    "executionInfo": {
     "elapsed": 6550,
     "status": "ok",
     "timestamp": 1605672329821,
     "user": {
      "displayName": "Jake Edward Taylor",
      "photoUrl": "",
      "userId": "03706230206312910017"
     },
     "user_tz": 480
    },
    "id": "EHcTlvP5yQtp"
   },
   "outputs": [],
   "source": [
    "# Standardize the test set\n",
    "x_test = (test['x'] - x_mean) / x_std\n",
    "x_test_flattened = x_test.reshape(x_test.shape[0], -1)"
   ]
  },
  {
   "cell_type": "code",
   "execution_count": 14,
   "metadata": {
    "colab": {
     "base_uri": "https://localhost:8080/"
    },
    "executionInfo": {
     "elapsed": 363,
     "status": "ok",
     "timestamp": 1605672244249,
     "user": {
      "displayName": "Jake Edward Taylor",
      "photoUrl": "",
      "userId": "03706230206312910017"
     },
     "user_tz": 480
    },
    "id": "eGK-AgCZUBz_",
    "outputId": "ceaa02d0-fccb-43ef-9fbb-8ea1534d3a88"
   },
   "outputs": [
    {
     "data": {
      "text/plain": [
       "(1111, 150528)"
      ]
     },
     "execution_count": 14,
     "metadata": {
      "tags": []
     },
     "output_type": "execute_result"
    }
   ],
   "source": [
    "x_test_flattened.shape"
   ]
  },
  {
   "cell_type": "code",
   "execution_count": 15,
   "metadata": {
    "executionInfo": {
     "elapsed": 711,
     "status": "ok",
     "timestamp": 1605672245600,
     "user": {
      "displayName": "Jake Edward Taylor",
      "photoUrl": "",
      "userId": "03706230206312910017"
     },
     "user_tz": 480
    },
    "id": "5nl8dOyH0M38"
   },
   "outputs": [],
   "source": [
    "collect()\n",
    "del x_test"
   ]
  },
  {
   "cell_type": "code",
   "execution_count": null,
   "metadata": {
    "id": "dPnBMP1iFyG-"
   },
   "outputs": [],
   "source": [
    "# Create a directory to save results \n",
    "directory_name = '11-4-20_SGDClf_classWts_elastic_net'\n",
    "directory_name = os.path.join(experiments_dir, 'model_results', directory_name)\n",
    "os.mkdir(directory_name)"
   ]
  },
  {
   "cell_type": "code",
   "execution_count": null,
   "metadata": {
    "colab": {
     "base_uri": "https://localhost:8080/"
    },
    "executionInfo": {
     "elapsed": 881,
     "status": "ok",
     "timestamp": 1605371619880,
     "user": {
      "displayName": "Jake Edward Taylor",
      "photoUrl": "",
      "userId": "03706230206312910017"
     },
     "user_tz": 480
    },
    "id": "BF7l3tKtGSIH",
    "outputId": "79145c15-d43c-4bef-f2cc-53eeb39211d4",
    "scrolled": true
   },
   "outputs": [
    {
     "data": {
      "text/plain": [
       "0.6624662466246625"
      ]
     },
     "execution_count": 21,
     "metadata": {
      "tags": []
     },
     "output_type": "execute_result"
    }
   ],
   "source": [
    "x_test = (test['x'] - x_mean) / x_std\n",
    "x_test_flattened = x_test.reshape(x_valid.shape[0], -1)\n",
    "\n",
    "test_preds = sgd_clf.predict(x_test_flattened)\n",
    "test_accuracy = accuracy_score(test['y'], test_preds)\n",
    "test_accuracy"
   ]
  },
  {
   "cell_type": "code",
   "execution_count": 19,
   "metadata": {
    "colab": {
     "base_uri": "https://localhost:8080/",
     "height": 284
    },
    "executionInfo": {
     "elapsed": 706,
     "status": "ok",
     "timestamp": 1605672434817,
     "user": {
      "displayName": "Jake Edward Taylor",
      "photoUrl": "",
      "userId": "03706230206312910017"
     },
     "user_tz": 480
    },
    "id": "QH0koel49Vk6",
    "outputId": "bc2999ae-92ad-47ea-e71f-ee6c7a683288",
    "scrolled": true
   },
   "outputs": [
    {
     "data": {
      "image/png": "[encoded data removed]",
      "text/plain": [
       "<Figure size 432x288 with 2 Axes>"
      ]
     },
     "metadata": {
      "needs_background": "light",
      "tags": []
     },
     "output_type": "display_data"
    }
   ],
   "source": [
    "# Visualize confusion matrix\n",
    "ax = plt.subplot()\n",
    "test_cf_matrix = confusion_matrix(test['y'], preds)\n",
    "sns.heatmap(test_cf_matrix, annot = True, ax = ax, cmap = 'Blues')\n",
    "plt.title('Confusion matrix: test set')\n",
    "plt.savefig(os.path.join(directory_name, 'test_set_cf_matrix.png'))\n",
    "plt.show()"
   ]
  },
  {
   "cell_type": "code",
   "execution_count": null,
   "metadata": {
    "id": "QB2RHPCAGZhl"
   },
   "outputs": [],
   "source": [
    "# Save results to our directory\n",
    "eval_df = pd.DataFrame(columns = ['set', 'loss', 'accuracy'])\n",
    "eval_df.loc[0] = ['test', 'hinge_loss', test_accuracy]\n",
    "eval_df.to_csv(os.path.join(directory_name, 'eval_df.csv'))"
   ]
  }
 ],
 "metadata": {
  "colab": {
   "collapsed_sections": [
    "P9R-6eaOdwa6",
    "nDjuAKLAHN5O"
   ],
   "name": "final_SVM_modeling.ipynb",
   "provenance": [],
   "toc_visible": true
  },
  "kernelspec": {
   "display_name": "Python 3",
   "language": "python",
   "name": "python3"
  },
  "language_info": {
   "codemirror_mode": {
    "name": "ipython",
    "version": 3
   },
   "file_extension": ".py",
   "mimetype": "text/x-python",
   "name": "python",
   "nbconvert_exporter": "python",
   "pygments_lexer": "ipython3",
   "version": "3.7.4"
  }
 },
 "nbformat": 4,
 "nbformat_minor": 1
}
