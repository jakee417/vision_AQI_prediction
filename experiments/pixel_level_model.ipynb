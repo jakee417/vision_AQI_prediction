{
 "cells": [
  {
   "cell_type": "markdown",
   "metadata": {
    "id": "Tk_LQa38jXcz"
   },
   "source": [
    "## Setup"
   ]
  },
  {
   "cell_type": "code",
   "execution_count": null,
   "metadata": {
    "id": "f6f8HLa_pxzE"
   },
   "outputs": [],
   "source": [
    "# Libraries\n",
    "import sklearn\n",
    "import tensorflow as tf\n",
    "from tensorflow import keras\n",
    "import numpy as np\n",
    "import pandas as pd\n",
    "import os\n",
    "\n",
    "# Seeds\n",
    "np.random.seed(42)\n",
    "tf.random.set_seed(42)\n",
    "\n",
    "# Plotting\n",
    "%matplotlib inline\n",
    "import matplotlib as mpl\n",
    "import matplotlib.pyplot as plt\n",
    "mpl.rc('axes', labelsize=14)\n",
    "mpl.rc('xtick', labelsize=12)\n",
    "mpl.rc('ytick', labelsize=12)"
   ]
  },
  {
   "cell_type": "code",
   "execution_count": null,
   "metadata": {
    "colab": {
     "base_uri": "https://localhost:8080/"
    },
    "executionInfo": {
     "elapsed": 22980,
     "status": "ok",
     "timestamp": 1605393937832,
     "user": {
      "displayName": "Jake Edward Taylor",
      "photoUrl": "",
      "userId": "03706230206312910017"
     },
     "user_tz": 480
    },
    "id": "UfoCE6cYp1r2",
    "outputId": "fbff2c94-ffee-48fe-e965-e9ebf2d7c528"
   },
   "outputs": [
    {
     "name": "stdout",
     "output_type": "stream",
     "text": [
      "Mounted at /content/drive/\n"
     ]
    }
   ],
   "source": [
    "from google.colab import drive\n",
    "drive.mount('/content/drive/')\n",
    "project_root_dir = '/content/drive/My Drive/CS_229_project/'"
   ]
  },
  {
   "cell_type": "code",
   "execution_count": null,
   "metadata": {
    "id": "VxFaeEiup36_"
   },
   "outputs": [],
   "source": [
    "aqi_dir = os.path.join(project_root_dir, 'aqi_data', 'final_data')\n",
    "experiments_dir = os.path.join(project_root_dir, 'experiments')\n",
    "img_dir = os.path.join(project_root_dir, 'img_data')"
   ]
  },
  {
   "cell_type": "markdown",
   "metadata": {
    "id": "bPA16bZjuSNG"
   },
   "source": [
    "# Simple pixel-level softmax"
   ]
  },
  {
   "cell_type": "markdown",
   "metadata": {
    "id": "nDjuAKLAHN5O"
   },
   "source": [
    "## Preliminaries"
   ]
  },
  {
   "cell_type": "code",
   "execution_count": null,
   "metadata": {
    "id": "epMoqgHZuNT4"
   },
   "outputs": [],
   "source": [
    "# Load training, validation, and test X datasets\n",
    "train = np.load(os.path.join(experiments_dir, 'train.npz'))\n",
    "valid = np.load(os.path.join(experiments_dir, 'valid.npz'))\n",
    "test = np.load(os.path.join(experiments_dir, 'test.npz'))"
   ]
  },
  {
   "cell_type": "code",
   "execution_count": null,
   "metadata": {
    "colab": {
     "base_uri": "https://localhost:8080/"
    },
    "executionInfo": {
     "elapsed": 23694,
     "status": "ok",
     "timestamp": 1605393966704,
     "user": {
      "displayName": "Jake Edward Taylor",
      "photoUrl": "",
      "userId": "03706230206312910017"
     },
     "user_tz": 480
    },
    "id": "MyikPuftO9sV",
    "outputId": "12be526f-584f-44ad-d818-6f82602fcfda"
   },
   "outputs": [
    {
     "data": {
      "text/plain": [
       "(3333, 224, 224, 3)"
      ]
     },
     "execution_count": 6,
     "metadata": {
      "tags": []
     },
     "output_type": "execute_result"
    }
   ],
   "source": [
    "train['x'].shape"
   ]
  },
  {
   "cell_type": "code",
   "execution_count": null,
   "metadata": {
    "colab": {
     "base_uri": "https://localhost:8080/"
    },
    "executionInfo": {
     "elapsed": 23690,
     "status": "ok",
     "timestamp": 1605393966705,
     "user": {
      "displayName": "Jake Edward Taylor",
      "photoUrl": "",
      "userId": "03706230206312910017"
     },
     "user_tz": 480
    },
    "id": "H8D62ZhEun5a",
    "outputId": "5da9bd25-f635-4ca5-bd49-185bd08df264"
   },
   "outputs": [
    {
     "data": {
      "text/plain": [
       "{0: 1.0, 1: 1.800990099009901, 2: 3.609126984126984}"
      ]
     },
     "execution_count": 7,
     "metadata": {
      "tags": []
     },
     "output_type": "execute_result"
    }
   ],
   "source": [
    "from collections import Counter\n",
    "item_ct = Counter(train['y'])\n",
    "max_ct = float(max(item_ct.values()))\n",
    "class_wts = {class_id: max_ct / num_img for class_id, num_img in item_ct.items()}\n",
    "class_wts"
   ]
  },
  {
   "cell_type": "code",
   "execution_count": null,
   "metadata": {
    "id": "XCDgL3PzIXb_"
   },
   "outputs": [],
   "source": [
    "no_class_wts = {'0': 1, '1': 1, '2': 1}"
   ]
  },
  {
   "cell_type": "code",
   "execution_count": null,
   "metadata": {
    "id": "UU2nAxzyu-p0"
   },
   "outputs": [],
   "source": [
    "# Center and scale training and validation X\n",
    "x_mean = train['x'].mean(axis = 0, keepdims = True)\n",
    "x_std = train['x'].std(axis = 0, keepdims = True) + 1e-7\n",
    "x_train = (train['x'] - x_mean) / x_std\n",
    "x_valid = (valid['x'] - x_mean) / x_std"
   ]
  },
  {
   "cell_type": "code",
   "execution_count": null,
   "metadata": {
    "id": "KbBGaD7Kvliu"
   },
   "outputs": [],
   "source": [
    "x_train_flattened = x_train.reshape(x_train.shape[0], -1)\n",
    "x_valid_flattened = x_valid.reshape(x_valid.shape[0], -1)"
   ]
  },
  {
   "cell_type": "code",
   "execution_count": null,
   "metadata": {
    "colab": {
     "base_uri": "https://localhost:8080/"
    },
    "executionInfo": {
     "elapsed": 76362,
     "status": "ok",
     "timestamp": 1605394019403,
     "user": {
      "displayName": "Jake Edward Taylor",
      "photoUrl": "",
      "userId": "03706230206312910017"
     },
     "user_tz": 480
    },
    "id": "FmzXFwH6z0j-",
    "outputId": "778f7b01-ed5a-4364-90a8-4fea528a2340"
   },
   "outputs": [
    {
     "data": {
      "text/plain": [
       "27"
      ]
     },
     "execution_count": 11,
     "metadata": {
      "tags": []
     },
     "output_type": "execute_result"
    }
   ],
   "source": [
    "from gc import collect\n",
    "del x_train, x_valid\n",
    "collect()"
   ]
  },
  {
   "cell_type": "code",
   "execution_count": null,
   "metadata": {
    "id": "Ru2WTTpVwN-_"
   },
   "outputs": [],
   "source": [
    "x_all = np.concatenate((x_train_flattened, x_valid_flattened))\n",
    "y_all = np.concatenate((train['y'], valid['y']))"
   ]
  },
  {
   "cell_type": "code",
   "execution_count": null,
   "metadata": {
    "colab": {
     "base_uri": "https://localhost:8080/"
    },
    "executionInfo": {
     "elapsed": 79325,
     "status": "ok",
     "timestamp": 1605394022379,
     "user": {
      "displayName": "Jake Edward Taylor",
      "photoUrl": "",
      "userId": "03706230206312910017"
     },
     "user_tz": 480
    },
    "id": "4JIcFZMMU3Ca",
    "outputId": "4915634e-1cc5-4343-e95e-9068b7361ef0"
   },
   "outputs": [
    {
     "name": "stdout",
     "output_type": "stream",
     "text": [
      "(4444, 150528)\n",
      "(4444,)\n"
     ]
    }
   ],
   "source": [
    "print(x_all.shape)\n",
    "print(y_all.shape)"
   ]
  },
  {
   "cell_type": "code",
   "execution_count": null,
   "metadata": {
    "id": "8H9lVVML2dNx"
   },
   "outputs": [],
   "source": [
    "collect()\n",
    "del x_train_flattened, x_valid_flattened"
   ]
  },
  {
   "cell_type": "markdown",
   "metadata": {
    "id": "p8uL7DIbHQes"
   },
   "source": [
    "## SGD Classifier"
   ]
  },
  {
   "cell_type": "markdown",
   "metadata": {
    "id": "DaxqbfRSH33A"
   },
   "source": [
    "### Basic fit"
   ]
  },
  {
   "cell_type": "code",
   "execution_count": null,
   "metadata": {
    "id": "Alraj-uxvqdF"
   },
   "outputs": [],
   "source": [
    "from sklearn.linear_model import SGDClassifier\n",
    "sgd_clf = SGDClassifier(random_state = 42, loss = 'hinge', class_weight = class_wts, alpha = 1, penalty = 'l2', verbose = True)"
   ]
  },
  {
   "cell_type": "code",
   "execution_count": null,
   "metadata": {
    "colab": {
     "base_uri": "https://localhost:8080/"
    },
    "executionInfo": {
     "elapsed": 254061,
     "status": "ok",
     "timestamp": 1605394338863,
     "user": {
      "displayName": "Jake Edward Taylor",
      "photoUrl": "",
      "userId": "03706230206312910017"
     },
     "user_tz": 480
    },
    "id": "MpJm2QXwyBVD",
    "outputId": "35a53df4-9b82-454d-b083-4d5f01bf8658"
   },
   "outputs": [
    {
     "name": "stderr",
     "output_type": "stream",
     "text": [
      "[Parallel(n_jobs=1)]: Using backend SequentialBackend with 1 concurrent workers.\n"
     ]
    },
    {
     "name": "stdout",
     "output_type": "stream",
     "text": [
      "-- Epoch 1\n",
      "Norm: 1.43, NNZs: 150528, Bias: 0.926374, T: 4444, Avg. loss: 89.128954\n",
      "Total training time: 1.34 seconds.\n",
      "-- Epoch 2\n",
      "Norm: 0.99, NNZs: 150528, Bias: 0.957580, T: 8888, Avg. loss: 3.434913\n",
      "Total training time: 2.61 seconds.\n",
      "-- Epoch 3\n",
      "Norm: 0.85, NNZs: 150528, Bias: 0.972356, T: 13332, Avg. loss: 1.974338\n",
      "Total training time: 3.88 seconds.\n",
      "-- Epoch 4\n",
      "Norm: 0.74, NNZs: 150528, Bias: 0.983139, T: 17776, Avg. loss: 1.459041\n",
      "Total training time: 5.13 seconds.\n",
      "-- Epoch 5\n",
      "Norm: 0.69, NNZs: 150528, Bias: 0.984807, T: 22220, Avg. loss: 1.121206\n",
      "Total training time: 6.38 seconds.\n",
      "-- Epoch 6\n",
      "Norm: 0.65, NNZs: 150528, Bias: 0.986437, T: 26664, Avg. loss: 0.926372\n",
      "Total training time: 7.64 seconds.\n",
      "-- Epoch 7\n",
      "Norm: 0.62, NNZs: 150528, Bias: 0.985326, T: 31108, Avg. loss: 0.858177\n",
      "Total training time: 8.91 seconds.\n",
      "-- Epoch 8\n",
      "Norm: 0.59, NNZs: 150528, Bias: 0.982070, T: 35552, Avg. loss: 0.741488\n",
      "Total training time: 10.16 seconds.\n",
      "-- Epoch 9\n",
      "Norm: 0.57, NNZs: 150528, Bias: 0.980323, T: 39996, Avg. loss: 0.696155\n",
      "Total training time: 11.41 seconds.\n",
      "-- Epoch 10\n",
      "Norm: 0.56, NNZs: 150528, Bias: 0.977413, T: 44440, Avg. loss: 0.635079\n",
      "Total training time: 12.68 seconds.\n",
      "-- Epoch 11\n",
      "Norm: 0.55, NNZs: 150528, Bias: 0.974059, T: 48884, Avg. loss: 0.572444\n",
      "Total training time: 13.93 seconds.\n",
      "-- Epoch 12\n",
      "Norm: 0.54, NNZs: 150528, Bias: 0.971079, T: 53328, Avg. loss: 0.557565\n",
      "Total training time: 15.20 seconds.\n",
      "-- Epoch 13\n",
      "Norm: 0.53, NNZs: 150528, Bias: 0.968230, T: 57772, Avg. loss: 0.533472\n",
      "Total training time: 16.47 seconds.\n",
      "-- Epoch 14\n",
      "Norm: 0.52, NNZs: 150528, Bias: 0.965869, T: 62216, Avg. loss: 0.511085\n",
      "Total training time: 17.73 seconds.\n",
      "-- Epoch 15\n",
      "Norm: 0.52, NNZs: 150528, Bias: 0.962964, T: 66660, Avg. loss: 0.478563\n",
      "Total training time: 19.00 seconds.\n",
      "-- Epoch 16\n",
      "Norm: 0.51, NNZs: 150528, Bias: 0.960453, T: 71104, Avg. loss: 0.471129\n",
      "Total training time: 20.25 seconds.\n",
      "-- Epoch 17\n",
      "Norm: 0.51, NNZs: 150528, Bias: 0.956968, T: 75548, Avg. loss: 0.448074\n",
      "Total training time: 21.52 seconds.\n",
      "-- Epoch 18\n",
      "Norm: 0.50, NNZs: 150528, Bias: 0.954200, T: 79992, Avg. loss: 0.431109\n",
      "Total training time: 22.80 seconds.\n",
      "-- Epoch 19\n",
      "Norm: 0.50, NNZs: 150528, Bias: 0.951329, T: 84436, Avg. loss: 0.428781\n",
      "Total training time: 24.09 seconds.\n",
      "-- Epoch 20\n",
      "Norm: 0.50, NNZs: 150528, Bias: 0.948669, T: 88880, Avg. loss: 0.424981\n",
      "Total training time: 25.38 seconds.\n",
      "-- Epoch 21\n",
      "Norm: 0.50, NNZs: 150528, Bias: 0.946053, T: 93324, Avg. loss: 0.408555\n",
      "Total training time: 26.68 seconds.\n",
      "-- Epoch 22\n",
      "Norm: 0.50, NNZs: 150528, Bias: 0.943045, T: 97768, Avg. loss: 0.401294\n",
      "Total training time: 27.99 seconds.\n",
      "-- Epoch 23\n",
      "Norm: 0.49, NNZs: 150528, Bias: 0.940601, T: 102212, Avg. loss: 0.386832\n",
      "Total training time: 29.28 seconds.\n",
      "-- Epoch 24\n",
      "Norm: 0.49, NNZs: 150528, Bias: 0.938136, T: 106656, Avg. loss: 0.381212\n",
      "Total training time: 30.55 seconds.\n",
      "-- Epoch 25\n",
      "Norm: 0.49, NNZs: 150528, Bias: 0.935440, T: 111100, Avg. loss: 0.380936\n",
      "Total training time: 31.83 seconds.\n",
      "-- Epoch 26\n",
      "Norm: 0.49, NNZs: 150528, Bias: 0.933439, T: 115544, Avg. loss: 0.366043\n",
      "Total training time: 33.11 seconds.\n",
      "-- Epoch 27\n",
      "Norm: 0.49, NNZs: 150528, Bias: 0.931136, T: 119988, Avg. loss: 0.365020\n",
      "Total training time: 34.38 seconds.\n",
      "-- Epoch 28\n",
      "Norm: 0.49, NNZs: 150528, Bias: 0.929453, T: 124432, Avg. loss: 0.360774\n",
      "Total training time: 35.64 seconds.\n",
      "-- Epoch 29\n",
      "Norm: 0.49, NNZs: 150528, Bias: 0.927143, T: 128876, Avg. loss: 0.361276\n",
      "Total training time: 36.92 seconds.\n",
      "-- Epoch 30\n",
      "Norm: 0.49, NNZs: 150528, Bias: 0.925365, T: 133320, Avg. loss: 0.344985\n",
      "Total training time: 38.20 seconds.\n",
      "-- Epoch 31\n",
      "Norm: 0.48, NNZs: 150528, Bias: 0.923555, T: 137764, Avg. loss: 0.349366\n",
      "Total training time: 39.47 seconds.\n",
      "-- Epoch 32\n",
      "Norm: 0.48, NNZs: 150528, Bias: 0.921428, T: 142208, Avg. loss: 0.345025\n",
      "Total training time: 40.75 seconds.\n",
      "-- Epoch 33\n",
      "Norm: 0.48, NNZs: 150528, Bias: 0.919666, T: 146652, Avg. loss: 0.337278\n",
      "Total training time: 42.02 seconds.\n",
      "-- Epoch 34\n",
      "Norm: 0.48, NNZs: 150528, Bias: 0.917865, T: 151096, Avg. loss: 0.327080\n",
      "Total training time: 43.30 seconds.\n",
      "-- Epoch 35\n",
      "Norm: 0.48, NNZs: 150528, Bias: 0.916183, T: 155540, Avg. loss: 0.329455\n",
      "Total training time: 44.58 seconds.\n",
      "-- Epoch 36\n",
      "Norm: 0.48, NNZs: 150528, Bias: 0.914401, T: 159984, Avg. loss: 0.320359\n",
      "Total training time: 45.86 seconds.\n",
      "-- Epoch 37\n",
      "Norm: 0.48, NNZs: 150528, Bias: 0.912782, T: 164428, Avg. loss: 0.320612\n",
      "Total training time: 47.13 seconds.\n",
      "-- Epoch 38\n",
      "Norm: 0.48, NNZs: 150528, Bias: 0.911325, T: 168872, Avg. loss: 0.319761\n",
      "Total training time: 48.42 seconds.\n",
      "-- Epoch 39\n",
      "Norm: 0.48, NNZs: 150528, Bias: 0.909738, T: 173316, Avg. loss: 0.321709\n",
      "Total training time: 49.70 seconds.\n",
      "-- Epoch 40\n",
      "Norm: 0.48, NNZs: 150528, Bias: 0.908287, T: 177760, Avg. loss: 0.322565\n",
      "Total training time: 50.99 seconds.\n",
      "-- Epoch 41\n",
      "Norm: 0.48, NNZs: 150528, Bias: 0.906686, T: 182204, Avg. loss: 0.315460\n",
      "Total training time: 52.27 seconds.\n",
      "-- Epoch 42\n",
      "Norm: 0.48, NNZs: 150528, Bias: 0.905206, T: 186648, Avg. loss: 0.314686\n",
      "Total training time: 53.55 seconds.\n",
      "-- Epoch 43\n",
      "Norm: 0.48, NNZs: 150528, Bias: 0.903690, T: 191092, Avg. loss: 0.313857\n",
      "Total training time: 54.84 seconds.\n",
      "-- Epoch 44\n",
      "Norm: 0.48, NNZs: 150528, Bias: 0.902184, T: 195536, Avg. loss: 0.306999\n",
      "Total training time: 56.12 seconds.\n",
      "-- Epoch 45\n",
      "Norm: 0.48, NNZs: 150528, Bias: 0.900854, T: 199980, Avg. loss: 0.301908\n",
      "Total training time: 57.40 seconds.\n",
      "-- Epoch 46\n",
      "Norm: 0.48, NNZs: 150528, Bias: 0.899394, T: 204424, Avg. loss: 0.303682\n",
      "Total training time: 58.68 seconds.\n",
      "-- Epoch 47\n",
      "Norm: 0.48, NNZs: 150528, Bias: 0.898049, T: 208868, Avg. loss: 0.300371\n",
      "Total training time: 59.96 seconds.\n",
      "-- Epoch 48\n",
      "Norm: 0.48, NNZs: 150528, Bias: 0.896657, T: 213312, Avg. loss: 0.294454\n",
      "Total training time: 61.24 seconds.\n",
      "-- Epoch 49\n",
      "Norm: 0.48, NNZs: 150528, Bias: 0.895428, T: 217756, Avg. loss: 0.299132\n",
      "Total training time: 62.54 seconds.\n",
      "-- Epoch 50\n",
      "Norm: 0.48, NNZs: 150528, Bias: 0.894088, T: 222200, Avg. loss: 0.295435\n",
      "Total training time: 63.83 seconds.\n",
      "-- Epoch 51\n",
      "Norm: 0.48, NNZs: 150528, Bias: 0.892916, T: 226644, Avg. loss: 0.295795\n",
      "Total training time: 65.10 seconds.\n",
      "-- Epoch 52\n",
      "Norm: 0.48, NNZs: 150528, Bias: 0.891540, T: 231088, Avg. loss: 0.292876\n",
      "Total training time: 66.39 seconds.\n",
      "-- Epoch 53\n",
      "Norm: 0.48, NNZs: 150528, Bias: 0.890295, T: 235532, Avg. loss: 0.289729\n",
      "Total training time: 67.69 seconds.\n",
      "-- Epoch 54\n",
      "Norm: 0.48, NNZs: 150528, Bias: 0.889056, T: 239976, Avg. loss: 0.288270\n",
      "Total training time: 68.97 seconds.\n",
      "-- Epoch 55\n",
      "Norm: 0.48, NNZs: 150528, Bias: 0.887896, T: 244420, Avg. loss: 0.288335\n",
      "Total training time: 70.26 seconds.\n",
      "-- Epoch 56\n",
      "Norm: 0.48, NNZs: 150528, Bias: 0.886700, T: 248864, Avg. loss: 0.282514\n",
      "Total training time: 71.55 seconds.\n",
      "-- Epoch 57\n",
      "Norm: 0.48, NNZs: 150528, Bias: 0.885638, T: 253308, Avg. loss: 0.281626\n",
      "Total training time: 72.84 seconds.\n",
      "-- Epoch 58\n",
      "Norm: 0.48, NNZs: 150528, Bias: 0.884645, T: 257752, Avg. loss: 0.278564\n",
      "Total training time: 74.13 seconds.\n",
      "-- Epoch 59\n",
      "Norm: 0.48, NNZs: 150528, Bias: 0.883592, T: 262196, Avg. loss: 0.285896\n",
      "Total training time: 75.41 seconds.\n",
      "-- Epoch 60\n",
      "Norm: 0.48, NNZs: 150528, Bias: 0.882494, T: 266640, Avg. loss: 0.284158\n",
      "Total training time: 76.70 seconds.\n",
      "-- Epoch 61\n",
      "Norm: 0.48, NNZs: 150528, Bias: 0.881528, T: 271084, Avg. loss: 0.276658\n",
      "Total training time: 77.99 seconds.\n",
      "-- Epoch 62\n",
      "Norm: 0.48, NNZs: 150528, Bias: 0.880575, T: 275528, Avg. loss: 0.276400\n",
      "Total training time: 79.29 seconds.\n",
      "-- Epoch 63\n",
      "Norm: 0.48, NNZs: 150528, Bias: 0.879587, T: 279972, Avg. loss: 0.282324\n",
      "Total training time: 80.58 seconds.\n",
      "-- Epoch 64\n",
      "Norm: 0.48, NNZs: 150528, Bias: 0.878578, T: 284416, Avg. loss: 0.276232\n",
      "Total training time: 81.87 seconds.\n",
      "-- Epoch 65\n",
      "Norm: 0.48, NNZs: 150528, Bias: 0.877426, T: 288860, Avg. loss: 0.274517\n",
      "Total training time: 83.16 seconds.\n",
      "-- Epoch 66\n",
      "Norm: 0.48, NNZs: 150528, Bias: 0.876474, T: 293304, Avg. loss: 0.273370\n",
      "Total training time: 84.45 seconds.\n",
      "-- Epoch 67\n",
      "Norm: 0.48, NNZs: 150528, Bias: 0.875519, T: 297748, Avg. loss: 0.275620\n",
      "Total training time: 85.74 seconds.\n",
      "-- Epoch 68\n",
      "Norm: 0.48, NNZs: 150528, Bias: 0.874579, T: 302192, Avg. loss: 0.269218\n",
      "Total training time: 87.03 seconds.\n",
      "-- Epoch 69\n",
      "Norm: 0.48, NNZs: 150528, Bias: 0.873762, T: 306636, Avg. loss: 0.269410\n",
      "Total training time: 88.33 seconds.\n",
      "-- Epoch 70\n",
      "Norm: 0.48, NNZs: 150528, Bias: 0.872903, T: 311080, Avg. loss: 0.273819\n",
      "Total training time: 89.62 seconds.\n",
      "-- Epoch 71\n",
      "Norm: 0.48, NNZs: 150528, Bias: 0.872109, T: 315524, Avg. loss: 0.265321\n",
      "Total training time: 90.91 seconds.\n",
      "-- Epoch 72\n",
      "Norm: 0.48, NNZs: 150528, Bias: 0.871173, T: 319968, Avg. loss: 0.269748\n",
      "Total training time: 92.23 seconds.\n",
      "-- Epoch 73\n",
      "Norm: 0.48, NNZs: 150528, Bias: 0.870270, T: 324412, Avg. loss: 0.266428\n",
      "Total training time: 93.57 seconds.\n",
      "-- Epoch 74\n",
      "Norm: 0.48, NNZs: 150528, Bias: 0.869449, T: 328856, Avg. loss: 0.264179\n",
      "Total training time: 94.88 seconds.\n",
      "-- Epoch 75\n",
      "Norm: 0.48, NNZs: 150528, Bias: 0.868588, T: 333300, Avg. loss: 0.267451\n",
      "Total training time: 96.18 seconds.\n",
      "-- Epoch 76\n",
      "Norm: 0.48, NNZs: 150528, Bias: 0.867704, T: 337744, Avg. loss: 0.264958\n",
      "Total training time: 97.47 seconds.\n",
      "-- Epoch 77\n",
      "Norm: 0.48, NNZs: 150528, Bias: 0.866960, T: 342188, Avg. loss: 0.262899\n",
      "Total training time: 98.76 seconds.\n",
      "-- Epoch 78\n",
      "Norm: 0.48, NNZs: 150528, Bias: 0.866054, T: 346632, Avg. loss: 0.263756\n",
      "Total training time: 100.05 seconds.\n",
      "-- Epoch 79\n",
      "Norm: 0.48, NNZs: 150528, Bias: 0.865246, T: 351076, Avg. loss: 0.263008\n",
      "Total training time: 101.34 seconds.\n",
      "-- Epoch 80\n",
      "Norm: 0.48, NNZs: 150528, Bias: 0.864510, T: 355520, Avg. loss: 0.261166\n",
      "Total training time: 102.63 seconds.\n",
      "-- Epoch 81\n",
      "Norm: 0.48, NNZs: 150528, Bias: 0.863649, T: 359964, Avg. loss: 0.261625\n",
      "Total training time: 103.93 seconds.\n",
      "-- Epoch 82\n",
      "Norm: 0.48, NNZs: 150528, Bias: 0.862857, T: 364408, Avg. loss: 0.260310\n",
      "Total training time: 105.22 seconds.\n",
      "-- Epoch 83\n",
      "Norm: 0.48, NNZs: 150528, Bias: 0.862126, T: 368852, Avg. loss: 0.256135\n",
      "Total training time: 106.51 seconds.\n",
      "-- Epoch 84\n",
      "Norm: 0.48, NNZs: 150528, Bias: 0.861408, T: 373296, Avg. loss: 0.256571\n",
      "Total training time: 107.80 seconds.\n",
      "-- Epoch 85\n",
      "Norm: 0.48, NNZs: 150528, Bias: 0.860683, T: 377740, Avg. loss: 0.258309\n",
      "Total training time: 109.10 seconds.\n",
      "-- Epoch 86\n",
      "Norm: 0.48, NNZs: 150528, Bias: 0.859878, T: 382184, Avg. loss: 0.257283\n",
      "Total training time: 110.39 seconds.\n",
      "-- Epoch 87\n",
      "Norm: 0.48, NNZs: 150528, Bias: 0.859150, T: 386628, Avg. loss: 0.257176\n",
      "Total training time: 111.68 seconds.\n",
      "-- Epoch 88\n",
      "Norm: 0.48, NNZs: 150528, Bias: 0.858473, T: 391072, Avg. loss: 0.256996\n",
      "Total training time: 112.98 seconds.\n",
      "Convergence after 88 epochs took 112.98 seconds\n",
      "-- Epoch 1\n",
      "Norm: 1.52, NNZs: 150528, Bias: -0.278182, T: 4444, Avg. loss: 59.674303\n",
      "Total training time: 1.40 seconds.\n",
      "-- Epoch 2\n",
      "Norm: 1.14, NNZs: 150528, Bias: -0.360680, T: 8888, Avg. loss: 5.948409\n",
      "Total training time: 2.78 seconds.\n",
      "-- Epoch 3\n",
      "Norm: 0.96, NNZs: 150528, Bias: -0.410812, T: 13332, Avg. loss: 3.579767\n",
      "Total training time: 4.14 seconds.\n",
      "-- Epoch 4\n",
      "Norm: 0.87, NNZs: 150528, Bias: -0.447214, T: 17776, Avg. loss: 2.597179\n",
      "Total training time: 5.52 seconds.\n",
      "-- Epoch 5\n",
      "Norm: 0.81, NNZs: 150528, Bias: -0.473245, T: 22220, Avg. loss: 2.037458\n",
      "Total training time: 6.89 seconds.\n",
      "-- Epoch 6\n",
      "Norm: 0.77, NNZs: 150528, Bias: -0.496095, T: 26664, Avg. loss: 1.685651\n",
      "Total training time: 8.26 seconds.\n",
      "-- Epoch 7\n",
      "Norm: 0.73, NNZs: 150528, Bias: -0.512588, T: 31108, Avg. loss: 1.446905\n",
      "Total training time: 9.62 seconds.\n",
      "-- Epoch 8\n",
      "Norm: 0.71, NNZs: 150528, Bias: -0.525553, T: 35552, Avg. loss: 1.268454\n",
      "Total training time: 11.00 seconds.\n",
      "-- Epoch 9\n",
      "Norm: 0.68, NNZs: 150528, Bias: -0.538308, T: 39996, Avg. loss: 1.123304\n",
      "Total training time: 12.37 seconds.\n",
      "-- Epoch 10\n",
      "Norm: 0.67, NNZs: 150528, Bias: -0.548686, T: 44440, Avg. loss: 1.078942\n",
      "Total training time: 13.75 seconds.\n",
      "-- Epoch 11\n",
      "Norm: 0.66, NNZs: 150528, Bias: -0.556727, T: 48884, Avg. loss: 0.939064\n",
      "Total training time: 15.11 seconds.\n",
      "-- Epoch 12\n",
      "Norm: 0.65, NNZs: 150528, Bias: -0.563589, T: 53328, Avg. loss: 0.921485\n",
      "Total training time: 16.49 seconds.\n",
      "-- Epoch 13\n",
      "Norm: 0.64, NNZs: 150528, Bias: -0.569098, T: 57772, Avg. loss: 0.890114\n",
      "Total training time: 17.87 seconds.\n",
      "-- Epoch 14\n",
      "Norm: 0.63, NNZs: 150528, Bias: -0.576193, T: 62216, Avg. loss: 0.779891\n",
      "Total training time: 19.24 seconds.\n",
      "-- Epoch 15\n",
      "Norm: 0.62, NNZs: 150528, Bias: -0.580858, T: 66660, Avg. loss: 0.748727\n",
      "Total training time: 20.62 seconds.\n",
      "-- Epoch 16\n",
      "Norm: 0.62, NNZs: 150528, Bias: -0.584444, T: 71104, Avg. loss: 0.725110\n",
      "Total training time: 22.00 seconds.\n",
      "-- Epoch 17\n",
      "Norm: 0.62, NNZs: 150528, Bias: -0.587853, T: 75548, Avg. loss: 0.709085\n",
      "Total training time: 23.39 seconds.\n",
      "-- Epoch 18\n",
      "Norm: 0.61, NNZs: 150528, Bias: -0.591340, T: 79992, Avg. loss: 0.683201\n",
      "Total training time: 24.77 seconds.\n",
      "-- Epoch 19\n",
      "Norm: 0.61, NNZs: 150528, Bias: -0.594490, T: 84436, Avg. loss: 0.641838\n",
      "Total training time: 26.15 seconds.\n",
      "-- Epoch 20\n",
      "Norm: 0.61, NNZs: 150528, Bias: -0.597042, T: 88880, Avg. loss: 0.628906\n",
      "Total training time: 27.54 seconds.\n",
      "-- Epoch 21\n",
      "Norm: 0.60, NNZs: 150528, Bias: -0.599688, T: 93324, Avg. loss: 0.609416\n",
      "Total training time: 28.91 seconds.\n",
      "-- Epoch 22\n",
      "Norm: 0.60, NNZs: 150528, Bias: -0.601759, T: 97768, Avg. loss: 0.575563\n",
      "Total training time: 30.30 seconds.\n",
      "-- Epoch 23\n",
      "Norm: 0.60, NNZs: 150528, Bias: -0.603908, T: 102212, Avg. loss: 0.578045\n",
      "Total training time: 31.68 seconds.\n",
      "-- Epoch 24\n",
      "Norm: 0.60, NNZs: 150528, Bias: -0.605980, T: 106656, Avg. loss: 0.561795\n",
      "Total training time: 33.06 seconds.\n",
      "-- Epoch 25\n",
      "Norm: 0.60, NNZs: 150528, Bias: -0.607777, T: 111100, Avg. loss: 0.543053\n",
      "Total training time: 34.45 seconds.\n",
      "-- Epoch 26\n",
      "Norm: 0.59, NNZs: 150528, Bias: -0.609572, T: 115544, Avg. loss: 0.542463\n",
      "Total training time: 35.85 seconds.\n",
      "-- Epoch 27\n",
      "Norm: 0.59, NNZs: 150528, Bias: -0.610509, T: 119988, Avg. loss: 0.524572\n",
      "Total training time: 37.23 seconds.\n",
      "-- Epoch 28\n",
      "Norm: 0.59, NNZs: 150528, Bias: -0.611757, T: 124432, Avg. loss: 0.518376\n",
      "Total training time: 38.62 seconds.\n",
      "-- Epoch 29\n",
      "Norm: 0.59, NNZs: 150528, Bias: -0.612780, T: 128876, Avg. loss: 0.508008\n",
      "Total training time: 40.01 seconds.\n",
      "-- Epoch 30\n",
      "Norm: 0.59, NNZs: 150528, Bias: -0.613732, T: 133320, Avg. loss: 0.502592\n",
      "Total training time: 41.41 seconds.\n",
      "-- Epoch 31\n",
      "Norm: 0.59, NNZs: 150528, Bias: -0.614380, T: 137764, Avg. loss: 0.490334\n",
      "Total training time: 42.80 seconds.\n",
      "-- Epoch 32\n",
      "Norm: 0.59, NNZs: 150528, Bias: -0.615600, T: 142208, Avg. loss: 0.474229\n",
      "Total training time: 44.19 seconds.\n",
      "-- Epoch 33\n",
      "Norm: 0.59, NNZs: 150528, Bias: -0.616143, T: 146652, Avg. loss: 0.463418\n",
      "Total training time: 45.57 seconds.\n",
      "-- Epoch 34\n",
      "Norm: 0.59, NNZs: 150528, Bias: -0.616793, T: 151096, Avg. loss: 0.460438\n",
      "Total training time: 46.95 seconds.\n",
      "-- Epoch 35\n",
      "Norm: 0.59, NNZs: 150528, Bias: -0.617139, T: 155540, Avg. loss: 0.457614\n",
      "Total training time: 48.34 seconds.\n",
      "-- Epoch 36\n",
      "Norm: 0.59, NNZs: 150528, Bias: -0.617676, T: 159984, Avg. loss: 0.451239\n",
      "Total training time: 49.73 seconds.\n",
      "-- Epoch 37\n",
      "Norm: 0.59, NNZs: 150528, Bias: -0.618023, T: 164428, Avg. loss: 0.448417\n",
      "Total training time: 51.12 seconds.\n",
      "-- Epoch 38\n",
      "Norm: 0.58, NNZs: 150528, Bias: -0.618737, T: 168872, Avg. loss: 0.436235\n",
      "Total training time: 52.50 seconds.\n",
      "-- Epoch 39\n",
      "Norm: 0.58, NNZs: 150528, Bias: -0.618913, T: 173316, Avg. loss: 0.441669\n",
      "Total training time: 53.89 seconds.\n",
      "-- Epoch 40\n",
      "Norm: 0.58, NNZs: 150528, Bias: -0.619245, T: 177760, Avg. loss: 0.423934\n",
      "Total training time: 55.28 seconds.\n",
      "-- Epoch 41\n",
      "Norm: 0.58, NNZs: 150528, Bias: -0.619549, T: 182204, Avg. loss: 0.424363\n",
      "Total training time: 56.67 seconds.\n",
      "-- Epoch 42\n",
      "Norm: 0.58, NNZs: 150528, Bias: -0.620060, T: 186648, Avg. loss: 0.425789\n",
      "Total training time: 58.06 seconds.\n",
      "-- Epoch 43\n",
      "Norm: 0.58, NNZs: 150528, Bias: -0.620285, T: 191092, Avg. loss: 0.419020\n",
      "Total training time: 59.45 seconds.\n",
      "-- Epoch 44\n",
      "Norm: 0.58, NNZs: 150528, Bias: -0.620124, T: 195536, Avg. loss: 0.406494\n",
      "Total training time: 60.84 seconds.\n",
      "-- Epoch 45\n",
      "Norm: 0.58, NNZs: 150528, Bias: -0.620264, T: 199980, Avg. loss: 0.414722\n",
      "Total training time: 62.24 seconds.\n",
      "-- Epoch 46\n",
      "Norm: 0.58, NNZs: 150528, Bias: -0.620241, T: 204424, Avg. loss: 0.409334\n",
      "Total training time: 63.63 seconds.\n",
      "-- Epoch 47\n",
      "Norm: 0.58, NNZs: 150528, Bias: -0.620385, T: 208868, Avg. loss: 0.400751\n",
      "Total training time: 65.02 seconds.\n",
      "-- Epoch 48\n",
      "Norm: 0.58, NNZs: 150528, Bias: -0.620408, T: 213312, Avg. loss: 0.394934\n",
      "Total training time: 66.41 seconds.\n",
      "-- Epoch 49\n",
      "Norm: 0.58, NNZs: 150528, Bias: -0.620385, T: 217756, Avg. loss: 0.396722\n",
      "Total training time: 67.80 seconds.\n",
      "-- Epoch 50\n",
      "Norm: 0.58, NNZs: 150528, Bias: -0.620703, T: 222200, Avg. loss: 0.385518\n",
      "Total training time: 69.19 seconds.\n",
      "-- Epoch 51\n",
      "Norm: 0.58, NNZs: 150528, Bias: -0.620703, T: 226644, Avg. loss: 0.388846\n",
      "Total training time: 70.59 seconds.\n",
      "-- Epoch 52\n",
      "Norm: 0.58, NNZs: 150528, Bias: -0.620771, T: 231088, Avg. loss: 0.391046\n",
      "Total training time: 72.00 seconds.\n",
      "-- Epoch 53\n",
      "Norm: 0.58, NNZs: 150528, Bias: -0.620976, T: 235532, Avg. loss: 0.381281\n",
      "Total training time: 73.39 seconds.\n",
      "-- Epoch 54\n",
      "Norm: 0.58, NNZs: 150528, Bias: -0.620915, T: 239976, Avg. loss: 0.378931\n",
      "Total training time: 74.78 seconds.\n",
      "-- Epoch 55\n",
      "Norm: 0.58, NNZs: 150528, Bias: -0.620868, T: 244420, Avg. loss: 0.381872\n",
      "Total training time: 76.16 seconds.\n",
      "-- Epoch 56\n",
      "Norm: 0.58, NNZs: 150528, Bias: -0.620594, T: 248864, Avg. loss: 0.370805\n",
      "Total training time: 77.55 seconds.\n",
      "-- Epoch 57\n",
      "Norm: 0.58, NNZs: 150528, Bias: -0.620483, T: 253308, Avg. loss: 0.373940\n",
      "Total training time: 78.95 seconds.\n",
      "-- Epoch 58\n",
      "Norm: 0.58, NNZs: 150528, Bias: -0.620430, T: 257752, Avg. loss: 0.373152\n",
      "Total training time: 80.36 seconds.\n",
      "-- Epoch 59\n",
      "Norm: 0.58, NNZs: 150528, Bias: -0.620439, T: 262196, Avg. loss: 0.372225\n",
      "Total training time: 81.76 seconds.\n",
      "-- Epoch 60\n",
      "Norm: 0.58, NNZs: 150528, Bias: -0.620283, T: 266640, Avg. loss: 0.370121\n",
      "Total training time: 83.17 seconds.\n",
      "-- Epoch 61\n",
      "Norm: 0.58, NNZs: 150528, Bias: -0.620426, T: 271084, Avg. loss: 0.364967\n",
      "Total training time: 84.56 seconds.\n",
      "-- Epoch 62\n",
      "Norm: 0.58, NNZs: 150528, Bias: -0.620082, T: 275528, Avg. loss: 0.369296\n",
      "Total training time: 85.96 seconds.\n",
      "-- Epoch 63\n",
      "Norm: 0.58, NNZs: 150528, Bias: -0.619762, T: 279972, Avg. loss: 0.358226\n",
      "Total training time: 87.36 seconds.\n",
      "-- Epoch 64\n",
      "Norm: 0.58, NNZs: 150528, Bias: -0.619790, T: 284416, Avg. loss: 0.350722\n",
      "Total training time: 88.76 seconds.\n",
      "-- Epoch 65\n",
      "Norm: 0.58, NNZs: 150528, Bias: -0.619763, T: 288860, Avg. loss: 0.349741\n",
      "Total training time: 90.14 seconds.\n",
      "-- Epoch 66\n",
      "Norm: 0.58, NNZs: 150528, Bias: -0.619491, T: 293304, Avg. loss: 0.354755\n",
      "Total training time: 91.54 seconds.\n",
      "-- Epoch 67\n",
      "Norm: 0.58, NNZs: 150528, Bias: -0.619101, T: 297748, Avg. loss: 0.352147\n",
      "Total training time: 92.94 seconds.\n",
      "-- Epoch 68\n",
      "Norm: 0.58, NNZs: 150528, Bias: -0.618840, T: 302192, Avg. loss: 0.355916\n",
      "Total training time: 94.34 seconds.\n",
      "-- Epoch 69\n",
      "Norm: 0.58, NNZs: 150528, Bias: -0.618752, T: 306636, Avg. loss: 0.351720\n",
      "Total training time: 95.74 seconds.\n",
      "Convergence after 69 epochs took 95.74 seconds\n",
      "-- Epoch 1\n",
      "Norm: 1.91, NNZs: 150528, Bias: -2.516410, T: 4444, Avg. loss: 79.609626\n",
      "Total training time: 1.51 seconds.\n",
      "-- Epoch 2\n",
      "Norm: 1.28, NNZs: 150528, Bias: -2.645263, T: 8888, Avg. loss: 6.377995\n",
      "Total training time: 2.91 seconds.\n",
      "-- Epoch 3\n",
      "Norm: 1.07, NNZs: 150528, Bias: -2.699420, T: 13332, Avg. loss: 3.251201\n",
      "Total training time: 4.27 seconds.\n",
      "-- Epoch 4\n",
      "Norm: 0.94, NNZs: 150528, Bias: -2.734131, T: 17776, Avg. loss: 2.200879\n",
      "Total training time: 5.63 seconds.\n",
      "-- Epoch 5\n",
      "Norm: 0.84, NNZs: 150528, Bias: -2.757554, T: 22220, Avg. loss: 1.562298\n",
      "Total training time: 6.94 seconds.\n",
      "-- Epoch 6\n",
      "Norm: 0.80, NNZs: 150528, Bias: -2.773503, T: 26664, Avg. loss: 1.319601\n",
      "Total training time: 8.24 seconds.\n",
      "-- Epoch 7\n",
      "Norm: 0.75, NNZs: 150528, Bias: -2.785498, T: 31108, Avg. loss: 1.055358\n",
      "Total training time: 9.52 seconds.\n",
      "-- Epoch 8\n",
      "Norm: 0.73, NNZs: 150528, Bias: -2.791981, T: 35552, Avg. loss: 0.942372\n",
      "Total training time: 10.81 seconds.\n",
      "-- Epoch 9\n",
      "Norm: 0.71, NNZs: 150528, Bias: -2.797119, T: 39996, Avg. loss: 0.864892\n",
      "Total training time: 12.09 seconds.\n",
      "-- Epoch 10\n",
      "Norm: 0.69, NNZs: 150528, Bias: -2.800886, T: 44440, Avg. loss: 0.684986\n",
      "Total training time: 13.33 seconds.\n",
      "-- Epoch 11\n",
      "Norm: 0.68, NNZs: 150528, Bias: -2.803385, T: 48884, Avg. loss: 0.692280\n",
      "Total training time: 14.59 seconds.\n",
      "-- Epoch 12\n",
      "Norm: 0.67, NNZs: 150528, Bias: -2.805621, T: 53328, Avg. loss: 0.573021\n",
      "Total training time: 15.82 seconds.\n",
      "-- Epoch 13\n",
      "Norm: 0.66, NNZs: 150528, Bias: -2.806979, T: 57772, Avg. loss: 0.580937\n",
      "Total training time: 17.07 seconds.\n",
      "-- Epoch 14\n",
      "Norm: 0.66, NNZs: 150528, Bias: -2.807764, T: 62216, Avg. loss: 0.547822\n",
      "Total training time: 18.31 seconds.\n",
      "-- Epoch 15\n",
      "Norm: 0.65, NNZs: 150528, Bias: -2.808796, T: 66660, Avg. loss: 0.512477\n",
      "Total training time: 19.55 seconds.\n",
      "-- Epoch 16\n",
      "Norm: 0.64, NNZs: 150528, Bias: -2.809306, T: 71104, Avg. loss: 0.457018\n",
      "Total training time: 20.77 seconds.\n",
      "-- Epoch 17\n",
      "Norm: 0.63, NNZs: 150528, Bias: -2.809470, T: 75548, Avg. loss: 0.417215\n",
      "Total training time: 21.99 seconds.\n",
      "-- Epoch 18\n",
      "Norm: 0.63, NNZs: 150528, Bias: -2.809339, T: 79992, Avg. loss: 0.429005\n",
      "Total training time: 23.22 seconds.\n",
      "-- Epoch 19\n",
      "Norm: 0.62, NNZs: 150528, Bias: -2.809313, T: 84436, Avg. loss: 0.392087\n",
      "Total training time: 24.44 seconds.\n",
      "-- Epoch 20\n",
      "Norm: 0.62, NNZs: 150528, Bias: -2.809411, T: 88880, Avg. loss: 0.397000\n",
      "Total training time: 25.65 seconds.\n",
      "-- Epoch 21\n",
      "Norm: 0.61, NNZs: 150528, Bias: -2.808824, T: 93324, Avg. loss: 0.363650\n",
      "Total training time: 26.87 seconds.\n",
      "-- Epoch 22\n",
      "Norm: 0.61, NNZs: 150528, Bias: -2.808288, T: 97768, Avg. loss: 0.370883\n",
      "Total training time: 28.10 seconds.\n",
      "-- Epoch 23\n",
      "Norm: 0.61, NNZs: 150528, Bias: -2.808108, T: 102212, Avg. loss: 0.352681\n",
      "Total training time: 29.33 seconds.\n",
      "-- Epoch 24\n",
      "Norm: 0.60, NNZs: 150528, Bias: -2.808009, T: 106656, Avg. loss: 0.335264\n",
      "Total training time: 30.54 seconds.\n",
      "-- Epoch 25\n",
      "Norm: 0.60, NNZs: 150528, Bias: -2.807767, T: 111100, Avg. loss: 0.332134\n",
      "Total training time: 31.75 seconds.\n",
      "-- Epoch 26\n",
      "Norm: 0.59, NNZs: 150528, Bias: -2.807302, T: 115544, Avg. loss: 0.312068\n",
      "Total training time: 32.96 seconds.\n",
      "-- Epoch 27\n",
      "Norm: 0.59, NNZs: 150528, Bias: -2.806821, T: 119988, Avg. loss: 0.302675\n",
      "Total training time: 34.17 seconds.\n",
      "-- Epoch 28\n",
      "Norm: 0.59, NNZs: 150528, Bias: -2.806589, T: 124432, Avg. loss: 0.325504\n",
      "Total training time: 35.39 seconds.\n",
      "-- Epoch 29\n",
      "Norm: 0.59, NNZs: 150528, Bias: -2.806048, T: 128876, Avg. loss: 0.284325\n",
      "Total training time: 36.59 seconds.\n",
      "-- Epoch 30\n",
      "Norm: 0.59, NNZs: 150528, Bias: -2.805311, T: 133320, Avg. loss: 0.266093\n",
      "Total training time: 37.80 seconds.\n",
      "-- Epoch 31\n",
      "Norm: 0.58, NNZs: 150528, Bias: -2.805143, T: 137764, Avg. loss: 0.281876\n",
      "Total training time: 39.01 seconds.\n",
      "-- Epoch 32\n",
      "Norm: 0.58, NNZs: 150528, Bias: -2.804586, T: 142208, Avg. loss: 0.285334\n",
      "Total training time: 40.23 seconds.\n",
      "-- Epoch 33\n",
      "Norm: 0.58, NNZs: 150528, Bias: -2.804381, T: 146652, Avg. loss: 0.278091\n",
      "Total training time: 41.44 seconds.\n",
      "-- Epoch 34\n",
      "Norm: 0.58, NNZs: 150528, Bias: -2.804066, T: 151096, Avg. loss: 0.285453\n",
      "Total training time: 42.66 seconds.\n",
      "-- Epoch 35\n",
      "Norm: 0.58, NNZs: 150528, Bias: -2.803810, T: 155540, Avg. loss: 0.269498\n",
      "Total training time: 43.88 seconds.\n",
      "Convergence after 35 epochs took 43.88 seconds\n"
     ]
    },
    {
     "name": "stderr",
     "output_type": "stream",
     "text": [
      "[Parallel(n_jobs=1)]: Done   3 out of   3 | elapsed:  4.2min finished\n"
     ]
    },
    {
     "data": {
      "text/plain": [
       "SGDClassifier(alpha=1, average=False,\n",
       "              class_weight={0: 1.0, 1: 1.800990099009901, 2: 3.609126984126984},\n",
       "              early_stopping=False, epsilon=0.1, eta0=0.0, fit_intercept=True,\n",
       "              l1_ratio=0.15, learning_rate='optimal', loss='hinge',\n",
       "              max_iter=1000, n_iter_no_change=5, n_jobs=None, penalty='l2',\n",
       "              power_t=0.5, random_state=42, shuffle=True, tol=0.001,\n",
       "              validation_fraction=0.1, verbose=True, warm_start=False)"
      ]
     },
     "execution_count": 16,
     "metadata": {
      "tags": []
     },
     "output_type": "execute_result"
    }
   ],
   "source": [
    "sgd_clf.fit(x_all, y_all)"
   ]
  },
  {
   "cell_type": "markdown",
   "metadata": {
    "id": "b8Fu9X35IKEl"
   },
   "source": [
    "### SVC"
   ]
  },
  {
   "cell_type": "code",
   "execution_count": null,
   "metadata": {
    "id": "-b0T1F1YnfoR"
   },
   "outputs": [],
   "source": [
    "from sklearn.svm import SVC\n",
    "svc_clf = SVC(random_state = 42, class_weight = class_wts, C = 1, verbose = True)"
   ]
  },
  {
   "cell_type": "code",
   "execution_count": null,
   "metadata": {
    "colab": {
     "base_uri": "https://localhost:8080/"
    },
    "executionInfo": {
     "elapsed": 10159197,
     "status": "ok",
     "timestamp": 1605222889415,
     "user": {
      "displayName": "Jake Edward Taylor",
      "photoUrl": "",
      "userId": "03706230206312910017"
     },
     "user_tz": 480
    },
    "id": "XcNwyfE6n3xH",
    "outputId": "cb7a50c8-3d90-4203-89c1-8a2367ec7f5c"
   },
   "outputs": [
    {
     "name": "stdout",
     "output_type": "stream",
     "text": [
      "[LibSVM]"
     ]
    },
    {
     "data": {
      "text/plain": [
       "0.7072457245724573"
      ]
     },
     "execution_count": 47,
     "metadata": {
      "tags": []
     },
     "output_type": "execute_result"
    }
   ],
   "source": [
    "svc_clf.fit(x_all, y_all)\n",
    "test_preds = svc_clf.predict(x_test_flattened)\n",
    "test_accuracy = accuracy_score(test['y'], test_preds)\n",
    "test_accuracy\n",
    "train_preds = svc_clf.predict(x_all)\n",
    "train_accuracy = accuracy_score(y_all, train_preds)\n",
    "train_accuracy"
   ]
  },
  {
   "cell_type": "code",
   "execution_count": null,
   "metadata": {
    "colab": {
     "base_uri": "https://localhost:8080/"
    },
    "executionInfo": {
     "elapsed": 1049950,
     "status": "ok",
     "timestamp": 1605224823041,
     "user": {
      "displayName": "Jake Edward Taylor",
      "photoUrl": "",
      "userId": "03706230206312910017"
     },
     "user_tz": 480
    },
    "id": "0xcxkiuayoG0",
    "outputId": "7f22dbb7-e98e-48ba-a875-5e915bd9e520"
   },
   "outputs": [
    {
     "data": {
      "text/plain": [
       "0.6453645364536453"
      ]
     },
     "execution_count": 49,
     "metadata": {
      "tags": []
     },
     "output_type": "execute_result"
    }
   ],
   "source": [
    "test_preds = svc_clf.predict(x_test_flattened)\n",
    "test_accuracy = accuracy_score(test['y'], test_preds)\n",
    "test_accuracy"
   ]
  },
  {
   "cell_type": "code",
   "execution_count": null,
   "metadata": {
    "colab": {
     "background_save": true
    },
    "id": "yqINchYhyvnL",
    "outputId": "ada3faca-5933-4f76-8714-95fb9fa7dcc6"
   },
   "outputs": [
    {
     "data": {
      "text/plain": [
       "0.7072457245724573"
      ]
     },
     "execution_count": 0,
     "metadata": {
      "tags": []
     },
     "output_type": "execute_result"
    }
   ],
   "source": [
    "train_preds = svc_clf.predict(x_all)\n",
    "train_accuracy = accuracy_score(y_all, train_preds)\n",
    "train_accuracy"
   ]
  },
  {
   "cell_type": "markdown",
   "metadata": {
    "id": "1y8EeK5kH6RF"
   },
   "source": [
    "### Grid search"
   ]
  },
  {
   "cell_type": "code",
   "execution_count": null,
   "metadata": {
    "colab": {
     "base_uri": "https://localhost:8080/"
    },
    "executionInfo": {
     "elapsed": 2832863,
     "status": "ok",
     "timestamp": 1605208496275,
     "user": {
      "displayName": "Jake Edward Taylor",
      "photoUrl": "",
      "userId": "03706230206312910017"
     },
     "user_tz": 480
    },
    "id": "4u1ku9xWHWl8",
    "outputId": "aeb07ca0-c384-4765-a785-9d1ec88d2e24"
   },
   "outputs": [
    {
     "data": {
      "text/plain": [
       "GridSearchCV(cv=3, error_score=nan,\n",
       "             estimator=SGDClassifier(alpha=0.0001, average=False,\n",
       "                                     class_weight={0: 1.0, 1: 1.800990099009901,\n",
       "                                                   2: 3.609126984126984},\n",
       "                                     early_stopping=False, epsilon=0.1,\n",
       "                                     eta0=0.0, fit_intercept=True,\n",
       "                                     l1_ratio=0.15, learning_rate='optimal',\n",
       "                                     loss='hinge', max_iter=1000,\n",
       "                                     n_iter_no_change=5, n_jobs=None,\n",
       "                                     penalty='l2', power_t=0.5, random_state=42,\n",
       "                                     shuffle=True, tol=0.001,\n",
       "                                     validation_fraction=0.1, verbose=0,\n",
       "                                     warm_start=False),\n",
       "             iid='deprecated', n_jobs=None,\n",
       "             param_grid=[{'alpha': [1, 2, 3, 4]}], pre_dispatch='2*n_jobs',\n",
       "             refit=True, return_train_score=True, scoring=None, verbose=0)"
      ]
     },
     "execution_count": 17,
     "metadata": {
      "tags": []
     },
     "output_type": "execute_result"
    }
   ],
   "source": [
    "from sklearn.linear_model import SGDClassifier\n",
    "from sklearn.model_selection import GridSearchCV\n",
    "\n",
    "param_grid = [{'alpha' : [1, 2, 3, 4]}]\n",
    "sgd_clf = SGDClassifier(random_state = 42, loss = 'hinge', class_weight = class_wts, penalty = 'l2')\n",
    "grid_search = GridSearchCV(sgd_clf, param_grid, cv = 3, return_train_score = True)\n",
    "grid_search.fit(x_all, y_all)"
   ]
  },
  {
   "cell_type": "code",
   "execution_count": null,
   "metadata": {
    "colab": {
     "base_uri": "https://localhost:8080/"
    },
    "executionInfo": {
     "elapsed": 643,
     "status": "ok",
     "timestamp": 1605208501640,
     "user": {
      "displayName": "Jake Edward Taylor",
      "photoUrl": "",
      "userId": "03706230206312910017"
     },
     "user_tz": 480
    },
    "id": "4lT27Nxi_glN",
    "outputId": "dca4128c-70e4-4efe-aa00-7ef6a2a4b8bb"
   },
   "outputs": [
    {
     "data": {
      "text/plain": [
       "{'mean_fit_time': array([210.99384753, 213.06367358, 193.54496217, 218.10130143]),\n",
       " 'mean_score_time': array([0.64045612, 0.64905866, 0.65924843, 0.60520848]),\n",
       " 'mean_test_score': array([0.53510534, 0.50427517, 0.49887539, 0.49865062]),\n",
       " 'mean_train_score': array([0.91246573, 0.87623689, 0.84338304, 0.82830762]),\n",
       " 'param_alpha': masked_array(data=[1, 2, 3, 4],\n",
       "              mask=[False, False, False, False],\n",
       "        fill_value='?',\n",
       "             dtype=object),\n",
       " 'params': [{'alpha': 1}, {'alpha': 2}, {'alpha': 3}, {'alpha': 4}],\n",
       " 'rank_test_score': array([1, 2, 3, 4], dtype=int32),\n",
       " 'split0_test_score': array([0.52699055, 0.50539811, 0.49662618, 0.49527665]),\n",
       " 'split0_train_score': array([0.90783255, 0.86968265, 0.83187036, 0.8264686 ]),\n",
       " 'split1_test_score': array([0.50844024, 0.50844024, 0.50573937, 0.50506415]),\n",
       " 'split1_train_score': array([0.89503881, 0.8720891 , 0.84070199, 0.82956463]),\n",
       " 'split2_test_score': array([0.56988521, 0.49898717, 0.49426063, 0.49561107]),\n",
       " 'split2_train_score': array([0.93452582, 0.88693891, 0.85757678, 0.82888964]),\n",
       " 'std_fit_time': array([26.41447929, 13.60143752, 29.68733449,  8.74687087]),\n",
       " 'std_score_time': array([0.02444601, 0.02730467, 0.06973762, 0.01864452]),\n",
       " 'std_test_score': array([0.02573271, 0.00394004, 0.00494871, 0.0045371 ]),\n",
       " 'std_train_score': array([0.01645004, 0.00763098, 0.01066446, 0.00132926])}"
      ]
     },
     "execution_count": 18,
     "metadata": {
      "tags": []
     },
     "output_type": "execute_result"
    }
   ],
   "source": [
    "grid_search.cv_results_"
   ]
  },
  {
   "cell_type": "markdown",
   "metadata": {
    "id": "jTpIKFZ1mT8i"
   },
   "source": [
    "## Evaluation"
   ]
  },
  {
   "cell_type": "markdown",
   "metadata": {
    "id": "9mthNEJplV4Y"
   },
   "source": [
    "### Test Data Setup"
   ]
  },
  {
   "cell_type": "code",
   "execution_count": null,
   "metadata": {
    "id": "EHcTlvP5yQtp"
   },
   "outputs": [],
   "source": [
    "x_mean_test = test['x'].mean(axis = 0, keepdims = True)\n",
    "x_std_test = test['x'].std(axis = 0, keepdims = True) + 1e-7\n",
    "x_test = (test['x'] - x_mean_test) / x_std_test\n",
    "x_test_flattened = x_test.reshape(x_test.shape[0], -1)"
   ]
  },
  {
   "cell_type": "code",
   "execution_count": null,
   "metadata": {
    "id": "5nl8dOyH0M38"
   },
   "outputs": [],
   "source": [
    "collect()\n",
    "del x_test"
   ]
  },
  {
   "cell_type": "code",
   "execution_count": null,
   "metadata": {
    "colab": {
     "base_uri": "https://localhost:8080/",
     "height": 35
    },
    "executionInfo": {
     "elapsed": 16239,
     "status": "ok",
     "timestamp": 1605394414538,
     "user": {
      "displayName": "Jake Edward Taylor",
      "photoUrl": "",
      "userId": "03706230206312910017"
     },
     "user_tz": 480
    },
    "id": "dPnBMP1iFyG-",
    "outputId": "b2b76ce7-431e-44eb-c399-88a663f3b839"
   },
   "outputs": [
    {
     "data": {
      "application/vnd.google.colaboratory.intrinsic+json": {
       "type": "string"
      },
      "text/plain": [
       "'/content/drive/My Drive/CS_229_project/experiments/model_results/bias_variance'"
      ]
     },
     "execution_count": 19,
     "metadata": {
      "tags": []
     },
     "output_type": "execute_result"
    }
   ],
   "source": [
    "directory_name = 'bias_variance'\n",
    "directory_name = os.path.join(experiments_dir, 'model_results', directory_name)\n",
    "directory_name"
   ]
  },
  {
   "cell_type": "code",
   "execution_count": null,
   "metadata": {
    "id": "tSJHvrz1sxMw"
   },
   "outputs": [],
   "source": [
    "from sklearn.metrics import confusion_matrix, accuracy_score\n",
    "import seaborn as sns"
   ]
  },
  {
   "cell_type": "markdown",
   "metadata": {
    "id": "ZBYf7z5uQFgy"
   },
   "source": [
    "Things to try:\n",
    "\n",
    "* Try getting more training examples\n",
    "* Try a smaller set of features\n",
    "* Try a larger set of features\n",
    "* Run gradient descent for more iterations\n",
    "* Try Newton's method\n",
    "* Use a different value of lambda\n",
    "* Try using a SVM\n",
    "\n"
   ]
  },
  {
   "cell_type": "markdown",
   "metadata": {
    "id": "13Rh5uKpxBfM"
   },
   "source": [
    "### Bias Variance Curve"
   ]
  },
  {
   "cell_type": "code",
   "execution_count": null,
   "metadata": {
    "id": "rFzuaAIS7tDk"
   },
   "outputs": [],
   "source": [
    "from collections import Counter\n",
    "from gc import collect\n",
    "from sklearn.linear_model import SGDClassifier\n",
    "from sklearn.metrics import confusion_matrix, accuracy_score\n",
    "from sklearn.metrics import log_loss\n",
    "import seaborn as sns"
   ]
  },
  {
   "cell_type": "code",
   "execution_count": null,
   "metadata": {
    "id": "N0s0RJaj7E68"
   },
   "outputs": [],
   "source": [
    "train = np.load(os.path.join(experiments_dir, 'train.npz'))\n",
    "valid = np.load(os.path.join(experiments_dir, 'valid.npz'))\n",
    "test = np.load(os.path.join(experiments_dir, 'test.npz'))"
   ]
  },
  {
   "cell_type": "code",
   "execution_count": null,
   "metadata": {
    "id": "T_LvtakhxA15"
   },
   "outputs": [],
   "source": [
    "n_train = train['x'].shape[0]\n",
    "n_valid = valid['x'].shape[0]\n",
    "seq_train = np.linspace(100, n_train, dtype = int, num = 10)\n",
    "seq_valid = np.linspace(100, n_valid, dtype = int, num = 10)\n",
    "idx_train = [np.random.choice(n_train, size = i, replace = False) for i in seq_train]\n",
    "idx_valid = [np.random.choice(n_valid, size = i, replace = False) for i in seq_valid]"
   ]
  },
  {
   "cell_type": "code",
   "execution_count": null,
   "metadata": {
    "colab": {
     "base_uri": "https://localhost:8080/"
    },
    "executionInfo": {
     "elapsed": 792,
     "status": "ok",
     "timestamp": 1605208549143,
     "user": {
      "displayName": "Jake Edward Taylor",
      "photoUrl": "",
      "userId": "03706230206312910017"
     },
     "user_tz": 480
    },
    "id": "D6woAg9S9si_",
    "outputId": "b77651e8-6b2f-41ae-cb97-a32ca245e9bf"
   },
   "outputs": [
    {
     "data": {
      "text/plain": [
       "1111"
      ]
     },
     "execution_count": 22,
     "metadata": {
      "tags": []
     },
     "output_type": "execute_result"
    }
   ],
   "source": [
    "collect()\n",
    "len(idx_valid[9])"
   ]
  },
  {
   "cell_type": "code",
   "execution_count": null,
   "metadata": {
    "colab": {
     "base_uri": "https://localhost:8080/"
    },
    "executionInfo": {
     "elapsed": 2522473,
     "status": "ok",
     "timestamp": 1605211264824,
     "user": {
      "displayName": "Jake Edward Taylor",
      "photoUrl": "",
      "userId": "03706230206312910017"
     },
     "user_tz": 480
    },
    "id": "nU45Jk_sx6ta",
    "outputId": "e6310071-2497-4e07-f736-664c11a37603",
    "scrolled": true
   },
   "outputs": [
    {
     "name": "stdout",
     "output_type": "stream",
     "text": [
      "200\n",
      "0.49864986498649866\n",
      "0.905\n",
      "671\n",
      "0.5508550855085509\n",
      "0.9567809239940388\n",
      "1142\n",
      "0.5445544554455446\n",
      "0.9150612959719789\n",
      "1614\n",
      "0.6165616561656165\n",
      "0.9405204460966543\n",
      "2085\n",
      "0.6174617461746175\n",
      "0.9189448441247002\n",
      "2557\n",
      "0.6156615661566157\n",
      "0.8775909268674228\n",
      "3029\n",
      "0.6417641764176417\n",
      "0.9052492571805877\n",
      "3500\n",
      "0.6336633663366337\n",
      "0.902\n",
      "3971\n",
      "0.6453645364536453\n",
      "0.8894485016368673\n",
      "4444\n",
      "0.6543654365436543\n",
      "0.8852385238523852\n"
     ]
    }
   ],
   "source": [
    "for i in range(0,len(idx_train)):\n",
    "  # Load training, validation, and test X datasets\n",
    "  item_ct = Counter(train['y'][idx_train[i]])\n",
    "  max_ct = float(max(item_ct.values()))\n",
    "  class_wts = {class_id: max_ct / num_img for class_id, num_img in item_ct.items()}\n",
    "\n",
    "  # Center and scale training and validation X\n",
    "  x_mean = train['x'][idx_train[i],:].mean(axis = 0, keepdims = True)\n",
    "  x_std = train['x'][idx_train[i],:].std(axis = 0, keepdims = True) + 1e-7\n",
    "  x_train = (train['x'][idx_train[i],:] - x_mean) / x_std\n",
    "  x_valid = (valid['x'][idx_valid[i],:] - x_mean) / x_std\n",
    "\n",
    "  x_train_flattened = x_train.reshape(x_train.shape[0], -1)\n",
    "  x_valid_flattened = x_valid.reshape(x_valid.shape[0], -1)\n",
    "  del x_train\n",
    "  del x_valid\n",
    "  collect()\n",
    "\n",
    "  x_all = np.concatenate((x_train_flattened, x_valid_flattened))\n",
    "  y_all = np.concatenate((train['y'][idx_train[i]], valid['y'][idx_valid[i]]))\n",
    "  collect()\n",
    "  del x_train_flattened, x_valid_flattened\n",
    "\n",
    "  sgd_clf = SGDClassifier(random_state = 42, loss = 'hinge', alpha = 1, class_weight = class_wts, penalty = 'l2', verbose = False)\n",
    "  sgd_clf.fit(x_all, y_all)\n",
    "\n",
    "  x_test = (test['x'] - x_mean) / x_std\n",
    "  x_test_flattened = x_test.reshape(x_test.shape[0], -1)\n",
    "\n",
    "  #test_predsa = sgd_clf.predict_proba(x_test_flattened)\n",
    "  test_preds = sgd_clf.predict(x_test_flattened)\n",
    "  #test_accuracya = log_loss(test['y'], test_predsa)\n",
    "  test_accuracy = accuracy_score(test['y'], test_preds)\n",
    "\n",
    "  #train_predsa = sgd_clf.predict_proba(x_all)\n",
    "  #train_accuracya = log_loss(y_all, train_predsa)\n",
    "\n",
    "  train_preds = sgd_clf.predict(x_all)\n",
    "  train_accuracy = accuracy_score(y_all, train_preds)\n",
    "\n",
    "  print(len(y_all))\n",
    "  #print(test_accuracya)\n",
    "  #print(train_accuracya)\n",
    "  print(test_accuracy)\n",
    "  print(train_accuracy)\n",
    "  \n",
    "  # Remove previous models if needed\n",
    "  del sgd_clf\n",
    "  del y_all\n",
    "  del x_all\n",
    "  del x_test\n",
    "  collect()"
   ]
  },
  {
   "cell_type": "markdown",
   "metadata": {
    "id": "wRDaQhl5MhK1"
   },
   "source": [
    "(Size, Test Error, Train Error)\n",
    "\n",
    "** Results with early stopping and internal validation sets**\n",
    "\n",
    "200\n",
    "0.46984698469846986\n",
    "0.765\n",
    "\n",
    "671\n",
    "0.49414941494149417\n",
    "0.7332339791356185\n",
    "\n",
    "1142\n",
    "0.5553555355535553\n",
    "0.7338003502626971\n",
    "\n",
    "1614\n",
    "0.5301530153015301\n",
    "0.6970260223048327\n",
    "\n",
    "2085\n",
    "0.5391539153915391\n",
    "0.6834532374100719\n",
    "\n",
    "2557\n",
    "0.5148514851485149\n",
    "0.6429409464215878\n",
    "\n",
    "3029\n",
    "0.5517551755175517\n",
    "0.6989105315285573\n",
    "\n",
    "3500\n",
    "0.47794779477947796\n",
    "0.6022857142857143\n",
    "\n",
    "3971\n",
    "0.48424842484248426\n",
    "0.5774364140015109\n",
    "\n",
    "4444\n",
    "0.5553555355535553\n",
    "0.6863186318631863\n",
    "\n",
    "** Results without internal validation with elastic net**\n",
    "\n",
    "200\n",
    "0.54995499549955\n",
    "0.98\n",
    "\n",
    "671\n",
    "0.5589558955895589\n",
    "0.9716840536512668\n",
    "\n",
    "1142\n",
    "0.5778577857785778\n",
    "0.9816112084063048\n",
    "\n",
    "1614\n",
    "0.5814581458145814\n",
    "0.9671623296158612\n",
    "\n",
    "2085\n",
    "0.5904590459045904\n",
    "0.9055155875299761\n",
    "\n",
    "2557\n",
    "0.6210621062106211\n",
    "0.9745795854517012\n",
    "\n",
    "3029\n",
    "0.6111611161116112\n",
    "0.9438758666226478\n",
    "\n",
    "3500\n",
    "0.6408640864086409\n",
    "0.958\n",
    "\n",
    "3971\n",
    "0.6237623762376238\n",
    "0.9576932762528331\n",
    "\n",
    "4444\n",
    "0.6345634563456346\n",
    "0.9507200720072008\n",
    "\n",
    "\n",
    "\n",
    "\n",
    "200\n",
    "0.5148514851485149\n",
    "0.935\n",
    "671\n",
    "0.5364536453645364\n",
    "0.8777943368107303\n",
    "1142\n",
    "0.54005400540054\n",
    "0.9054290718038529\n",
    "1614\n",
    "0.5418541854185418\n",
    "0.8141263940520446\n",
    "2085\n",
    "0.5751575157515751\n",
    "0.8983213429256595\n",
    "2557\n",
    "0.5895589558955896\n",
    "0.8259679311693391\n",
    "3029\n",
    "0.6255625562556255\n",
    "0.8669527896995708\n",
    "3500\n",
    "0.6498649864986499\n",
    "0.932\n",
    "3971\n",
    "0.6237623762376238\n",
    "0.9597078821455552"
   ]
  },
  {
   "cell_type": "markdown",
   "metadata": {
    "id": "X4nXq5CgxQ71"
   },
   "source": [
    "### Accuracy"
   ]
  },
  {
   "cell_type": "code",
   "execution_count": null,
   "metadata": {
    "colab": {
     "base_uri": "https://localhost:8080/"
    },
    "executionInfo": {
     "elapsed": 881,
     "status": "ok",
     "timestamp": 1605371619880,
     "user": {
      "displayName": "Jake Edward Taylor",
      "photoUrl": "",
      "userId": "03706230206312910017"
     },
     "user_tz": 480
    },
    "id": "BF7l3tKtGSIH",
    "outputId": "79145c15-d43c-4bef-f2cc-53eeb39211d4"
   },
   "outputs": [
    {
     "data": {
      "text/plain": [
       "0.6624662466246625"
      ]
     },
     "execution_count": 21,
     "metadata": {
      "tags": []
     },
     "output_type": "execute_result"
    }
   ],
   "source": [
    "test_preds = sgd_clf.predict(x_test_flattened)\n",
    "test_accuracy = accuracy_score(test['y'], test_preds)\n",
    "test_accuracy"
   ]
  },
  {
   "cell_type": "code",
   "execution_count": null,
   "metadata": {
    "id": "sTDcOb6yWYtM"
   },
   "outputs": [],
   "source": [
    "train_prob = sgd_clf.predict_proba(x_all)\n",
    "log_loss(y_all, train_prob)"
   ]
  },
  {
   "cell_type": "code",
   "execution_count": null,
   "metadata": {
    "colab": {
     "base_uri": "https://localhost:8080/"
    },
    "executionInfo": {
     "elapsed": 2600,
     "status": "ok",
     "timestamp": 1605371625155,
     "user": {
      "displayName": "Jake Edward Taylor",
      "photoUrl": "",
      "userId": "03706230206312910017"
     },
     "user_tz": 480
    },
    "id": "uzZh4CK7moRm",
    "outputId": "cccd5c8a-5587-4bc3-eaff-ce885e8413a3"
   },
   "outputs": [
    {
     "data": {
      "text/plain": [
       "0.880963096309631"
      ]
     },
     "execution_count": 22,
     "metadata": {
      "tags": []
     },
     "output_type": "execute_result"
    }
   ],
   "source": [
    "train_preds = sgd_clf.predict(x_all)\n",
    "train_accuracy = accuracy_score(y_all, train_preds)\n",
    "train_accuracy"
   ]
  },
  {
   "cell_type": "code",
   "execution_count": null,
   "metadata": {
    "colab": {
     "base_uri": "https://localhost:8080/"
    },
    "executionInfo": {
     "elapsed": 1402,
     "status": "ok",
     "timestamp": 1605132918022,
     "user": {
      "displayName": "Jake Edward Taylor",
      "photoUrl": "",
      "userId": "03706230206312910017"
     },
     "user_tz": 480
    },
    "id": "HEipZQoDX3za",
    "outputId": "0eb7f6e4-a4fb-48c5-d743-09b2aa4d5e01"
   },
   "outputs": [
    {
     "data": {
      "text/plain": [
       "9.755402781681598"
      ]
     },
     "execution_count": 43,
     "metadata": {
      "tags": []
     },
     "output_type": "execute_result"
    }
   ],
   "source": [
    "test_prob = sgd_clf.predict_proba(x_test_flattened)\n",
    "log_loss(test['y'], test_prob)"
   ]
  },
  {
   "cell_type": "code",
   "execution_count": null,
   "metadata": {
    "colab": {
     "base_uri": "https://localhost:8080/",
     "height": 163
    },
    "executionInfo": {
     "elapsed": 305,
     "status": "error",
     "timestamp": 1605131118842,
     "user": {
      "displayName": "Jake Edward Taylor",
      "photoUrl": "",
      "userId": "03706230206312910017"
     },
     "user_tz": 480
    },
    "id": "x6qZG5UWG1OC",
    "outputId": "5893748f-35c6-4c81-a6d4-c8d6fa1ff494"
   },
   "outputs": [
    {
     "ename": "NameError",
     "evalue": "ignored",
     "output_type": "error",
     "traceback": [
      "\u001b[0;31m---------------------------------------------------------------------------\u001b[0m",
      "\u001b[0;31mNameError\u001b[0m                                 Traceback (most recent call last)",
      "\u001b[0;32m<ipython-input-25-bd2c5245b9c9>\u001b[0m in \u001b[0;36m<module>\u001b[0;34m()\u001b[0m\n\u001b[0;32m----> 1\u001b[0;31m \u001b[0msklearn\u001b[0m\u001b[0;34m.\u001b[0m\u001b[0mmetrics\u001b[0m\u001b[0;34m.\u001b[0m\u001b[0mf1_score\u001b[0m\u001b[0;34m(\u001b[0m\u001b[0mtest\u001b[0m\u001b[0;34m[\u001b[0m\u001b[0;34m'y'\u001b[0m\u001b[0;34m]\u001b[0m\u001b[0;34m,\u001b[0m \u001b[0mpreds\u001b[0m\u001b[0;34m,\u001b[0m \u001b[0maverage\u001b[0m \u001b[0;34m=\u001b[0m \u001b[0;34m'macro'\u001b[0m\u001b[0;34m)\u001b[0m\u001b[0;34m\u001b[0m\u001b[0;34m\u001b[0m\u001b[0m\n\u001b[0m",
      "\u001b[0;31mNameError\u001b[0m: name 'preds' is not defined"
     ]
    }
   ],
   "source": [
    "sklearn.metrics.f1_score(test['y'], preds, average = 'macro')"
   ]
  },
  {
   "cell_type": "code",
   "execution_count": null,
   "metadata": {
    "colab": {
     "base_uri": "https://localhost:8080/",
     "height": 284
    },
    "executionInfo": {
     "elapsed": 2752,
     "status": "ok",
     "timestamp": 1605203188068,
     "user": {
      "displayName": "Jake Edward Taylor",
      "photoUrl": "",
      "userId": "03706230206312910017"
     },
     "user_tz": 480
    },
    "id": "QH0koel49Vk6",
    "outputId": "7186743f-dee5-4159-a602-cb2124fe005a"
   },
   "outputs": [
    {
     "data": {
      "image/png": "[encoded data removed]",
      "text/plain": [
       "<Figure size 432x288 with 2 Axes>"
      ]
     },
     "metadata": {
      "tags": []
     },
     "output_type": "display_data"
    }
   ],
   "source": [
    "ax = plt.subplot()\n",
    "test_cf_matrix = confusion_matrix(test['y'], test_preds)\n",
    "sns.heatmap(test_cf_matrix, annot = True, ax = ax, cmap = 'Blues')\n",
    "plt.title('Confusion matrix: test set')\n",
    "plt.savefig(os.path.join(directory_name, 'test_set_cf_matrix_0.6.png'))\n",
    "plt.show()"
   ]
  },
  {
   "cell_type": "code",
   "execution_count": null,
   "metadata": {
    "id": "QB2RHPCAGZhl"
   },
   "outputs": [],
   "source": [
    "eval_df = pd.DataFrame(columns = ['set', 'loss', 'accuracy'])\n",
    "eval_df.loc[0] = ['test', 'hinge_loss', test_accuracy]\n",
    "eval_df.to_csv(os.path.join(directory_name, 'eval_df_0.6.csv'))"
   ]
  },
  {
   "cell_type": "markdown",
   "metadata": {
    "id": "4XmGXMT7k-U0"
   },
   "source": [
    "### Predictions"
   ]
  },
  {
   "cell_type": "code",
   "execution_count": 26,
   "metadata": {
    "colab": {
     "base_uri": "https://localhost:8080/"
    },
    "executionInfo": {
     "elapsed": 506,
     "status": "ok",
     "timestamp": 1605400325125,
     "user": {
      "displayName": "Jake Edward Taylor",
      "photoUrl": "",
      "userId": "03706230206312910017"
     },
     "user_tz": 480
    },
    "id": "fMna46_OlDxC",
    "outputId": "bb895378-2a05-4b16-bd46-ebae94032f0b"
   },
   "outputs": [
    {
     "data": {
      "text/plain": [
       "(58, 224, 224, 3)"
      ]
     },
     "execution_count": 26,
     "metadata": {
      "tags": []
     },
     "output_type": "execute_result"
    }
   ],
   "source": [
    "pred = np.load(os.path.join(experiments_dir, 'x_pred.npy'))\n",
    "pred.shape"
   ]
  },
  {
   "cell_type": "code",
   "execution_count": null,
   "metadata": {
    "id": "2QRDVBgLFmXb"
   },
   "outputs": [],
   "source": [
    "x_pred_flattened = pred.reshape(pred.shape[0], -1)"
   ]
  },
  {
   "cell_type": "code",
   "execution_count": null,
   "metadata": {
    "colab": {
     "base_uri": "https://localhost:8080/"
    },
    "executionInfo": {
     "elapsed": 470,
     "status": "ok",
     "timestamp": 1605394467990,
     "user": {
      "displayName": "Jake Edward Taylor",
      "photoUrl": "",
      "userId": "03706230206312910017"
     },
     "user_tz": 480
    },
    "id": "jrdA8VsNlcKT",
    "outputId": "4502968e-78a8-42c9-854e-3f6068757ab8"
   },
   "outputs": [
    {
     "data": {
      "text/plain": [
       "(58, 150528)"
      ]
     },
     "execution_count": 22,
     "metadata": {
      "tags": []
     },
     "output_type": "execute_result"
    }
   ],
   "source": [
    "x_mean_pred = pred.mean(axis = 0, keepdims = True)\n",
    "x_std_pred = pred.std(axis = 0, keepdims = True) + 1e-7\n",
    "x_pred = (pred - x_mean) / x_std\n",
    "x_pred_flattened = x_pred.reshape(x_pred.shape[0], -1)\n",
    "x_pred_flattened.shape"
   ]
  },
  {
   "cell_type": "code",
   "execution_count": null,
   "metadata": {
    "id": "k9HDBvNGlzwG"
   },
   "outputs": [],
   "source": [
    "collect()\n",
    "del x_pred"
   ]
  },
  {
   "cell_type": "code",
   "execution_count": null,
   "metadata": {
    "id": "gxodrjSvl5va"
   },
   "outputs": [],
   "source": [
    "pred_preds = sgd_clf.predict(x_pred_flattened)"
   ]
  },
  {
   "cell_type": "code",
   "execution_count": null,
   "metadata": {
    "colab": {
     "base_uri": "https://localhost:8080/"
    },
    "executionInfo": {
     "elapsed": 445,
     "status": "ok",
     "timestamp": 1605394472220,
     "user": {
      "displayName": "Jake Edward Taylor",
      "photoUrl": "",
      "userId": "03706230206312910017"
     },
     "user_tz": 480
    },
    "id": "l_TFA2JMm8yQ",
    "outputId": "ea43ecfe-9af3-4833-ac42-3ed3c5f586a8"
   },
   "outputs": [
    {
     "data": {
      "text/plain": [
       "array([2, 1, 0, 2, 2, 2, 2, 2, 1, 1, 1, 0, 0, 2, 2, 1, 0, 2, 2, 1, 2, 0,\n",
       "       1, 2, 2, 0, 2, 0, 1, 0, 2, 2, 0, 0, 2, 2, 0, 0, 2, 0, 2, 0, 1, 2,\n",
       "       0, 2, 2, 0, 0, 0, 2, 0, 1, 0, 2, 1, 2, 1])"
      ]
     },
     "execution_count": 24,
     "metadata": {
      "tags": []
     },
     "output_type": "execute_result"
    }
   ],
   "source": [
    "pred_preds"
   ]
  },
  {
   "cell_type": "code",
   "execution_count": null,
   "metadata": {
    "colab": {
     "base_uri": "https://localhost:8080/"
    },
    "executionInfo": {
     "elapsed": 616,
     "status": "ok",
     "timestamp": 1605380349091,
     "user": {
      "displayName": "Jake Edward Taylor",
      "photoUrl": "",
      "userId": "03706230206312910017"
     },
     "user_tz": 480
    },
    "id": "d_Qr46BQnDTa",
    "outputId": "f627dd4f-dfd4-4a6d-abbf-166680eb5dcc"
   },
   "outputs": [
    {
     "data": {
      "text/plain": [
       "58"
      ]
     },
     "execution_count": 69,
     "metadata": {
      "tags": []
     },
     "output_type": "execute_result"
    }
   ],
   "source": [
    "len(pred_preds)"
   ]
  },
  {
   "cell_type": "code",
   "execution_count": null,
   "metadata": {
    "id": "wEp7PJL9nLEf"
   },
   "outputs": [],
   "source": [
    "import pandas as pd \n",
    "pd.DataFrame(pred_preds).to_csv(os.path.join(experiments_dir, 'preds.csv'))"
   ]
  }
 ],
 "metadata": {
  "colab": {
   "collapsed_sections": [
    "Tk_LQa38jXcz",
    "nDjuAKLAHN5O",
    "9mthNEJplV4Y"
   ],
   "name": "pixel_level_model.ipynb",
   "provenance": []
  },
  "kernelspec": {
   "display_name": "Python 3",
   "language": "python",
   "name": "python3"
  },
  "language_info": {
   "codemirror_mode": {
    "name": "ipython",
    "version": 3
   },
   "file_extension": ".py",
   "mimetype": "text/x-python",
   "name": "python",
   "nbconvert_exporter": "python",
   "pygments_lexer": "ipython3",
   "version": "3.7.4"
  }
 },
 "nbformat": 4,
 "nbformat_minor": 1
}
