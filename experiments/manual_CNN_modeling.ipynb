{
 "cells": [
  {
   "cell_type": "markdown",
   "metadata": {
    "id": "QSLuAbGx0soA"
   },
   "source": [
    "# Replication Code for Experimenting with CNNs\n",
    "\n",
    "The following contains the code I used to attempt a CNN from scratch on the dataset."
   ]
  },
  {
   "cell_type": "code",
   "execution_count": 1,
   "metadata": {
    "executionInfo": {
     "elapsed": 3820,
     "status": "ok",
     "timestamp": 1605591122622,
     "user": {
      "displayName": "Robert Schmidt",
      "photoUrl": "",
      "userId": "01672488058839739461"
     },
     "user_tz": 480
    },
    "id": "giZUPb7dPT3g"
   },
   "outputs": [],
   "source": [
    "# Libraries\n",
    "import sklearn\n",
    "import tensorflow as tf\n",
    "from tensorflow import keras\n",
    "import numpy as np\n",
    "import pandas as pd\n",
    "import os\n",
    "\n",
    "# Seeds\n",
    "np.random.seed(42)\n",
    "tf.random.set_seed(42)\n",
    "\n",
    "# Plotting\n",
    "%matplotlib inline\n",
    "import matplotlib as mpl\n",
    "import matplotlib.pyplot as plt\n",
    "mpl.rc('axes', labelsize=14)\n",
    "mpl.rc('xtick', labelsize=12)\n",
    "mpl.rc('ytick', labelsize=12)\n",
    "\n",
    "project_root_dir = 'your_directory_here'"
   ]
  },
  {
   "cell_type": "code",
   "execution_count": 3,
   "metadata": {
    "executionInfo": {
     "elapsed": 2834,
     "status": "ok",
     "timestamp": 1605591122624,
     "user": {
      "displayName": "Robert Schmidt",
      "photoUrl": "",
      "userId": "01672488058839739461"
     },
     "user_tz": 480
    },
    "id": "7jadIA3mPuco"
   },
   "outputs": [],
   "source": [
    "aqi_dir = os.path.join(project_root_dir, 'aqi_data', 'final_data')\n",
    "experiments_dir = os.path.join(project_root_dir, 'experiments')\n",
    "img_dir = os.path.join(project_root_dir, 'img_data')"
   ]
  },
  {
   "cell_type": "markdown",
   "metadata": {
    "id": "N7AsEq4xOLBJ"
   },
   "source": [
    "Basic custom model"
   ]
  },
  {
   "cell_type": "markdown",
   "metadata": {},
   "source": [
    "Here, I employ a basic CNN design as in _Hands-On Machine Learning with Scikit-Learn, Keras, & Tensorflow_ (2 ed.) by Geron, pg. 461."
   ]
  },
  {
   "cell_type": "code",
   "execution_count": null,
   "metadata": {
    "id": "WNrgaf_KOMsP"
   },
   "outputs": [],
   "source": [
    "model = keras.models.Sequential([\n",
    "    keras.layers.Conv2D(64, 7, activation = \"relu\", padding = \"same\", input_shape = [224, 224, 3]),\n",
    "    keras.layers.MaxPooling2D(2),\n",
    "    keras.layers.Conv2D(128, 3, activation = \"relu\", padding = \"same\"),\n",
    "    keras.layers.Conv2D(128, 3, activation = \"relu\", padding = \"same\"),\n",
    "    keras.layers.MaxPooling2D(2),\n",
    "    keras.layers.Conv2D(256, 3, activation = \"relu\", padding = \"same\"),\n",
    "    keras.layers.Conv2D(256, 3, activation = \"relu\", padding = \"same\"),\n",
    "    keras.layers.MaxPooling2D(2),\n",
    "    keras.layers.Flatten(),\n",
    "    keras.layers.Dense(128, activation = \"relu\"),\n",
    "    keras.layers.Dropout(0.5),\n",
    "    keras.layers.Dense(64, activation = \"relu\"),\n",
    "    keras.layers.Dropout(0.5),\n",
    "    keras.layers.Dense(3, activation = \"softmax\")\n",
    "])\n",
    "\n",
    "model.compile(loss = 'sparse_categorical_crossentropy', optimizer = 'nadam', metrics = ['accuracy'])"
   ]
  },
  {
   "cell_type": "code",
   "execution_count": null,
   "metadata": {
    "id": "WtVnB14cOrnl"
   },
   "outputs": [],
   "source": [
    "# Random horizontal and vertical flips for data augmentation\n",
    "datagen = keras.preprocessing.image.ImageDataGenerator(\n",
    "    horizontal_flip = True,\n",
    "    vertical_flip = True\n",
    ")"
   ]
  },
  {
   "cell_type": "code",
   "execution_count": null,
   "metadata": {
    "id": "SR89kjioRKGI"
   },
   "outputs": [],
   "source": [
    "train = np.load(os.path.join(experiments_dir, 'train.npz'))\n",
    "valid = np.load(os.path.join(experiments_dir, 'valid.npz'))\n",
    "test = np.load(os.path.join(experiments_dir, 'test.npz'))"
   ]
  },
  {
   "cell_type": "code",
   "execution_count": null,
   "metadata": {
    "id": "adZMniEeVB9k"
   },
   "outputs": [],
   "source": [
    "x_mean = train['x'].mean(axis = 0, keepdims = True)\n",
    "x_std = train['x'].std(axis = 0, keepdims = True) + 1e-7\n",
    "x_train = (train['x'] - x_mean) / x_std\n",
    "x_valid = (valid['x'] - x_mean) / x_std"
   ]
  },
  {
   "cell_type": "code",
   "execution_count": null,
   "metadata": {
    "id": "KbyjHjQWVhXv"
   },
   "outputs": [],
   "source": [
    "from collections import Counter\n",
    "item_ct = Counter(train['y'])\n",
    "max_ct = float(max(item_ct.values()))\n",
    "class_wts = {class_id: max_ct / num_img for class_id, num_img in item_ct.items()}"
   ]
  },
  {
   "cell_type": "code",
   "execution_count": null,
   "metadata": {},
   "outputs": [],
   "source": [
    "batch_size = 16\n",
    "epochs = 100\n",
    "\n",
    "n_train = x_train.shape[0]\n",
    "\n",
    "history = model.fit(datagen.flow(x_train, train['y'], batch_size = batch_size),\n",
    "                    epochs = epochs, steps_per_epoch = n_train // batch_size,\n",
    "                    validation_data = (x_valid, valid['y']),\n",
    "                    class_weight = class_wts)"
   ]
  },
  {
   "cell_type": "markdown",
   "metadata": {},
   "source": [
    "Training did not proceed well with the custom model given the small and noisy dataset. As in the best model, experiments with pre-trained networks proved more useful."
   ]
  }
 ],
 "metadata": {
  "accelerator": "GPU",
  "colab": {
   "collapsed_sections": [
    "JVFF-k-44Iw9",
    "N7AsEq4xOLBJ",
    "fnC2OqsOXArs",
    "QaI5kF0x2YAd",
    "5BxgMeAY1L_L"
   ],
   "name": "CNN_modeling.ipynb",
   "provenance": []
  },
  "kernelspec": {
   "display_name": "Python 3",
   "language": "python",
   "name": "python3"
  },
  "language_info": {
   "codemirror_mode": {
    "name": "ipython",
    "version": 3
   },
   "file_extension": ".py",
   "mimetype": "text/x-python",
   "name": "python",
   "nbconvert_exporter": "python",
   "pygments_lexer": "ipython3",
   "version": "3.7.4"
  }
 },
 "nbformat": 4,
 "nbformat_minor": 1
}
