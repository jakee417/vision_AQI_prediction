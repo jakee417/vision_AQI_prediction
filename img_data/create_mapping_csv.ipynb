{
 "cells": [
  {
   "cell_type": "code",
   "execution_count": 12,
   "metadata": {
    "colab": {
     "base_uri": "https://localhost:8080/"
    },
    "executionInfo": {
     "elapsed": 1741,
     "status": "ok",
     "timestamp": 1603910203212,
     "user": {
      "displayName": "Robert Schmidt",
      "photoUrl": "",
      "userId": "01672488058839739461"
     },
     "user_tz": 420
    },
    "id": "uZ9QsbzGJNRa",
    "outputId": "d129a050-9af8-4759-949b-0033d644dbb0"
   },
   "outputs": [
    {
     "name": "stdout",
     "output_type": "stream",
     "text": [
      "Mounted at /content/drive/\n"
     ]
    }
   ],
   "source": [
    "from google.colab import drive\n",
    "drive.mount('/content/drive/', force_remount = True)\n",
    "project_root_dir = '/content/drive/My Drive/CS_229_project/'"
   ]
  },
  {
   "cell_type": "code",
   "execution_count": 13,
   "metadata": {
    "colab": {
     "base_uri": "https://localhost:8080/",
     "height": 419
    },
    "executionInfo": {
     "elapsed": 1440,
     "status": "ok",
     "timestamp": 1603910209756,
     "user": {
      "displayName": "Robert Schmidt",
      "photoUrl": "",
      "userId": "01672488058839739461"
     },
     "user_tz": 420
    },
    "id": "PKqJR11GCEpv",
    "outputId": "9fe215b6-e560-4311-e74e-c6be78af0bf0"
   },
   "outputs": [
    {
     "data": {
      "text/html": [
       "<div>\n",
       "<style scoped>\n",
       "    .dataframe tbody tr th:only-of-type {\n",
       "        vertical-align: middle;\n",
       "    }\n",
       "\n",
       "    .dataframe tbody tr th {\n",
       "        vertical-align: top;\n",
       "    }\n",
       "\n",
       "    .dataframe thead th {\n",
       "        text-align: right;\n",
       "    }\n",
       "</style>\n",
       "<table border=\"1\" class=\"dataframe\">\n",
       "  <thead>\n",
       "    <tr style=\"text-align: right;\">\n",
       "      <th></th>\n",
       "      <th>id</th>\n",
       "      <th>file</th>\n",
       "      <th>site</th>\n",
       "      <th>strip_id</th>\n",
       "      <th>cloud_cover</th>\n",
       "    </tr>\n",
       "  </thead>\n",
       "  <tbody>\n",
       "    <tr>\n",
       "      <th>0</th>\n",
       "      <td>59_5001</td>\n",
       "      <td>20190405_185026_37_106c</td>\n",
       "      <td>5001.0</td>\n",
       "      <td>2260937</td>\n",
       "      <td>0.18</td>\n",
       "    </tr>\n",
       "    <tr>\n",
       "      <th>1</th>\n",
       "      <td>59_5001</td>\n",
       "      <td>20181014_180625_1014</td>\n",
       "      <td>5001.0</td>\n",
       "      <td>1767245</td>\n",
       "      <td>0.87</td>\n",
       "    </tr>\n",
       "    <tr>\n",
       "      <th>2</th>\n",
       "      <td>59_5001</td>\n",
       "      <td>20190902_184228_93_1067</td>\n",
       "      <td>5001.0</td>\n",
       "      <td>2646834</td>\n",
       "      <td>0.18</td>\n",
       "    </tr>\n",
       "    <tr>\n",
       "      <th>3</th>\n",
       "      <td>59_5001</td>\n",
       "      <td>20181007_180623_1005</td>\n",
       "      <td>5001.0</td>\n",
       "      <td>1751570</td>\n",
       "      <td>0.19</td>\n",
       "    </tr>\n",
       "    <tr>\n",
       "      <th>4</th>\n",
       "      <td>59_5001</td>\n",
       "      <td>20200517_182913_87_1067</td>\n",
       "      <td>5001.0</td>\n",
       "      <td>3405714</td>\n",
       "      <td>0.12</td>\n",
       "    </tr>\n",
       "    <tr>\n",
       "      <th>...</th>\n",
       "      <td>...</td>\n",
       "      <td>...</td>\n",
       "      <td>...</td>\n",
       "      <td>...</td>\n",
       "      <td>...</td>\n",
       "    </tr>\n",
       "    <tr>\n",
       "      <th>7197</th>\n",
       "      <td>83_4003</td>\n",
       "      <td>20170615_175821_1010</td>\n",
       "      <td>NaN</td>\n",
       "      <td>NaN</td>\n",
       "      <td>0.30</td>\n",
       "    </tr>\n",
       "    <tr>\n",
       "      <th>7198</th>\n",
       "      <td>83_4003</td>\n",
       "      <td>20190516_185741_85_106e</td>\n",
       "      <td>NaN</td>\n",
       "      <td>NaN</td>\n",
       "      <td>0.30</td>\n",
       "    </tr>\n",
       "    <tr>\n",
       "      <th>7199</th>\n",
       "      <td>83_4003</td>\n",
       "      <td>20191102_181448_0e20</td>\n",
       "      <td>NaN</td>\n",
       "      <td>NaN</td>\n",
       "      <td>0.30</td>\n",
       "    </tr>\n",
       "    <tr>\n",
       "      <th>7200</th>\n",
       "      <td>83_4003</td>\n",
       "      <td>20200430_210627_0f02</td>\n",
       "      <td>NaN</td>\n",
       "      <td>NaN</td>\n",
       "      <td>0.30</td>\n",
       "    </tr>\n",
       "    <tr>\n",
       "      <th>7201</th>\n",
       "      <td>83_4003</td>\n",
       "      <td>20170512_175729_1004</td>\n",
       "      <td>NaN</td>\n",
       "      <td>NaN</td>\n",
       "      <td>0.30</td>\n",
       "    </tr>\n",
       "  </tbody>\n",
       "</table>\n",
       "<p>7202 rows × 5 columns</p>\n",
       "</div>"
      ],
      "text/plain": [
       "           id                     file    site strip_id  cloud_cover\n",
       "0     59_5001  20190405_185026_37_106c  5001.0  2260937         0.18\n",
       "1     59_5001     20181014_180625_1014  5001.0  1767245         0.87\n",
       "2     59_5001  20190902_184228_93_1067  5001.0  2646834         0.18\n",
       "3     59_5001     20181007_180623_1005  5001.0  1751570         0.19\n",
       "4     59_5001  20200517_182913_87_1067  5001.0  3405714         0.12\n",
       "...       ...                      ...     ...      ...          ...\n",
       "7197  83_4003     20170615_175821_1010     NaN      NaN         0.30\n",
       "7198  83_4003  20190516_185741_85_106e     NaN      NaN         0.30\n",
       "7199  83_4003     20191102_181448_0e20     NaN      NaN         0.30\n",
       "7200  83_4003     20200430_210627_0f02     NaN      NaN         0.30\n",
       "7201  83_4003     20170512_175729_1004     NaN      NaN         0.30\n",
       "\n",
       "[7202 rows x 5 columns]"
      ]
     },
     "execution_count": 13,
     "metadata": {
      "tags": []
     },
     "output_type": "execute_result"
    }
   ],
   "source": [
    "import pickle\n",
    "import os\n",
    "import pandas as pd\n",
    "import numpy as np\n",
    "\n",
    "with open(os.path.join(project_root_dir, 'img_data', 'fileToSite.txt'), \"rb\") as fp:\n",
    "  labels = pickle.load(fp)\n",
    "\n",
    "with open(os.path.join(project_root_dir, 'img_data', 'file2siteWClouds.txt'), \"rb\") as fp:\n",
    "  cloudy_labels = pickle.load(fp)\n",
    "\n",
    "labels"
   ]
  },
  {
   "cell_type": "code",
   "execution_count": 14,
   "metadata": {
    "executionInfo": {
     "elapsed": 725,
     "status": "ok",
     "timestamp": 1603910214399,
     "user": {
      "displayName": "Robert Schmidt",
      "photoUrl": "",
      "userId": "01672488058839739461"
     },
     "user_tz": 420
    },
    "id": "ePs9GKX9ikqV"
   },
   "outputs": [],
   "source": [
    "labels = labels.reset_index(drop = True)"
   ]
  },
  {
   "cell_type": "code",
   "execution_count": 15,
   "metadata": {
    "executionInfo": {
     "elapsed": 666,
     "status": "ok",
     "timestamp": 1603910214708,
     "user": {
      "displayName": "Robert Schmidt",
      "photoUrl": "",
      "userId": "01672488058839739461"
     },
     "user_tz": 420
    },
    "id": "4wvT0ka4gMse"
   },
   "outputs": [],
   "source": [
    "full_site_index = []\n",
    "\n",
    "for i in range(labels.shape[0]):\n",
    "  site_loc = labels[\"id\"][i].split('_')\n",
    "  full_loc = int(6*1e7 + int(site_loc[0])*1e4 + int(site_loc[1]))\n",
    "  full_site_index.append(full_loc)"
   ]
  },
  {
   "cell_type": "code",
   "execution_count": 16,
   "metadata": {
    "executionInfo": {
     "elapsed": 506,
     "status": "ok",
     "timestamp": 1603910215323,
     "user": {
      "displayName": "Robert Schmidt",
      "photoUrl": "",
      "userId": "01672488058839739461"
     },
     "user_tz": 420
    },
    "id": "Ppo9Zg9pieqq"
   },
   "outputs": [],
   "source": [
    "labels[\"full_site\"] = full_site_index"
   ]
  },
  {
   "cell_type": "code",
   "execution_count": 17,
   "metadata": {
    "executionInfo": {
     "elapsed": 529,
     "status": "ok",
     "timestamp": 1603910216371,
     "user": {
      "displayName": "Robert Schmidt",
      "photoUrl": "",
      "userId": "01672488058839739461"
     },
     "user_tz": 420
    },
    "id": "RQNnKnD-j-RS"
   },
   "outputs": [],
   "source": [
    "labels[\"src_directory\"] = \"county_site\""
   ]
  },
  {
   "cell_type": "code",
   "execution_count": 18,
   "metadata": {
    "colab": {
     "base_uri": "https://localhost:8080/",
     "height": 419
    },
    "executionInfo": {
     "elapsed": 821,
     "status": "ok",
     "timestamp": 1603910217146,
     "user": {
      "displayName": "Robert Schmidt",
      "photoUrl": "",
      "userId": "01672488058839739461"
     },
     "user_tz": 420
    },
    "id": "D-jswp_qkVmR",
    "outputId": "57a9801a-071f-4448-c59a-94dbf6a79661"
   },
   "outputs": [
    {
     "data": {
      "text/html": [
       "<div>\n",
       "<style scoped>\n",
       "    .dataframe tbody tr th:only-of-type {\n",
       "        vertical-align: middle;\n",
       "    }\n",
       "\n",
       "    .dataframe tbody tr th {\n",
       "        vertical-align: top;\n",
       "    }\n",
       "\n",
       "    .dataframe thead th {\n",
       "        text-align: right;\n",
       "    }\n",
       "</style>\n",
       "<table border=\"1\" class=\"dataframe\">\n",
       "  <thead>\n",
       "    <tr style=\"text-align: right;\">\n",
       "      <th></th>\n",
       "      <th>id</th>\n",
       "      <th>file</th>\n",
       "      <th>site</th>\n",
       "      <th>strip_id</th>\n",
       "      <th>cloud_cover</th>\n",
       "      <th>full_site</th>\n",
       "      <th>src_directory</th>\n",
       "    </tr>\n",
       "  </thead>\n",
       "  <tbody>\n",
       "    <tr>\n",
       "      <th>0</th>\n",
       "      <td>59_5001</td>\n",
       "      <td>20190405_185026_37_106c</td>\n",
       "      <td>5001.0</td>\n",
       "      <td>2260937</td>\n",
       "      <td>0.18</td>\n",
       "      <td>60595001</td>\n",
       "      <td>county_site</td>\n",
       "    </tr>\n",
       "    <tr>\n",
       "      <th>1</th>\n",
       "      <td>59_5001</td>\n",
       "      <td>20181014_180625_1014</td>\n",
       "      <td>5001.0</td>\n",
       "      <td>1767245</td>\n",
       "      <td>0.87</td>\n",
       "      <td>60595001</td>\n",
       "      <td>county_site</td>\n",
       "    </tr>\n",
       "    <tr>\n",
       "      <th>2</th>\n",
       "      <td>59_5001</td>\n",
       "      <td>20190902_184228_93_1067</td>\n",
       "      <td>5001.0</td>\n",
       "      <td>2646834</td>\n",
       "      <td>0.18</td>\n",
       "      <td>60595001</td>\n",
       "      <td>county_site</td>\n",
       "    </tr>\n",
       "    <tr>\n",
       "      <th>3</th>\n",
       "      <td>59_5001</td>\n",
       "      <td>20181007_180623_1005</td>\n",
       "      <td>5001.0</td>\n",
       "      <td>1751570</td>\n",
       "      <td>0.19</td>\n",
       "      <td>60595001</td>\n",
       "      <td>county_site</td>\n",
       "    </tr>\n",
       "    <tr>\n",
       "      <th>4</th>\n",
       "      <td>59_5001</td>\n",
       "      <td>20200517_182913_87_1067</td>\n",
       "      <td>5001.0</td>\n",
       "      <td>3405714</td>\n",
       "      <td>0.12</td>\n",
       "      <td>60595001</td>\n",
       "      <td>county_site</td>\n",
       "    </tr>\n",
       "    <tr>\n",
       "      <th>...</th>\n",
       "      <td>...</td>\n",
       "      <td>...</td>\n",
       "      <td>...</td>\n",
       "      <td>...</td>\n",
       "      <td>...</td>\n",
       "      <td>...</td>\n",
       "      <td>...</td>\n",
       "    </tr>\n",
       "    <tr>\n",
       "      <th>7197</th>\n",
       "      <td>83_4003</td>\n",
       "      <td>20170615_175821_1010</td>\n",
       "      <td>NaN</td>\n",
       "      <td>NaN</td>\n",
       "      <td>0.30</td>\n",
       "      <td>60834003</td>\n",
       "      <td>county_site</td>\n",
       "    </tr>\n",
       "    <tr>\n",
       "      <th>7198</th>\n",
       "      <td>83_4003</td>\n",
       "      <td>20190516_185741_85_106e</td>\n",
       "      <td>NaN</td>\n",
       "      <td>NaN</td>\n",
       "      <td>0.30</td>\n",
       "      <td>60834003</td>\n",
       "      <td>county_site</td>\n",
       "    </tr>\n",
       "    <tr>\n",
       "      <th>7199</th>\n",
       "      <td>83_4003</td>\n",
       "      <td>20191102_181448_0e20</td>\n",
       "      <td>NaN</td>\n",
       "      <td>NaN</td>\n",
       "      <td>0.30</td>\n",
       "      <td>60834003</td>\n",
       "      <td>county_site</td>\n",
       "    </tr>\n",
       "    <tr>\n",
       "      <th>7200</th>\n",
       "      <td>83_4003</td>\n",
       "      <td>20200430_210627_0f02</td>\n",
       "      <td>NaN</td>\n",
       "      <td>NaN</td>\n",
       "      <td>0.30</td>\n",
       "      <td>60834003</td>\n",
       "      <td>county_site</td>\n",
       "    </tr>\n",
       "    <tr>\n",
       "      <th>7201</th>\n",
       "      <td>83_4003</td>\n",
       "      <td>20170512_175729_1004</td>\n",
       "      <td>NaN</td>\n",
       "      <td>NaN</td>\n",
       "      <td>0.30</td>\n",
       "      <td>60834003</td>\n",
       "      <td>county_site</td>\n",
       "    </tr>\n",
       "  </tbody>\n",
       "</table>\n",
       "<p>7202 rows × 7 columns</p>\n",
       "</div>"
      ],
      "text/plain": [
       "           id                     file  ...  full_site src_directory\n",
       "0     59_5001  20190405_185026_37_106c  ...   60595001   county_site\n",
       "1     59_5001     20181014_180625_1014  ...   60595001   county_site\n",
       "2     59_5001  20190902_184228_93_1067  ...   60595001   county_site\n",
       "3     59_5001     20181007_180623_1005  ...   60595001   county_site\n",
       "4     59_5001  20200517_182913_87_1067  ...   60595001   county_site\n",
       "...       ...                      ...  ...        ...           ...\n",
       "7197  83_4003     20170615_175821_1010  ...   60834003   county_site\n",
       "7198  83_4003  20190516_185741_85_106e  ...   60834003   county_site\n",
       "7199  83_4003     20191102_181448_0e20  ...   60834003   county_site\n",
       "7200  83_4003     20200430_210627_0f02  ...   60834003   county_site\n",
       "7201  83_4003     20170512_175729_1004  ...   60834003   county_site\n",
       "\n",
       "[7202 rows x 7 columns]"
      ]
     },
     "execution_count": 18,
     "metadata": {
      "tags": []
     },
     "output_type": "execute_result"
    }
   ],
   "source": [
    "labels"
   ]
  },
  {
   "cell_type": "code",
   "execution_count": null,
   "metadata": {
    "id": "LHFxBowNd8LN"
   },
   "outputs": [],
   "source": [
    "def convert_sites_to_full_sites(df, site_indices):\n",
    "  site_id = [int(site[-4:]) for site in site_indices]\n",
    "  site_mapper = pd.DataFrame({'full_site': site_indices, 'site': site_id})\n",
    "  df = pd.merge(df, site_mapper, how = 'left', on = ['site'])\n",
    "  return df"
   ]
  },
  {
   "cell_type": "code",
   "execution_count": null,
   "metadata": {
    "id": "6gmBZsDNJvTY"
   },
   "outputs": [],
   "source": [
    "site_indices = ['60370002',\n",
    "                '60370016',\n",
    "                '60370113',\n",
    "                '60371103',\n",
    "                '60371302',\n",
    "                '60371602',\n",
    "                '60371701',\n",
    "                '60372005',\n",
    "                '60374002',\n",
    "                '60375005',\n",
    "                '60590007',\n",
    "                '60595001',\n",
    "                '60650003',\n",
    "                '60658001',\n",
    "                '60658005',\n",
    "                '60710005',\n",
    "                '60710012',\n",
    "                '60710027',\n",
    "                '60711004',\n",
    "                '60712002',\n",
    "                '60714001',\n",
    "                '60714003',\n",
    "                '60718001',\n",
    "                '60719004',\n",
    "                '60719010']\n",
    "\n",
    "site_indices_2 = ['60592022',\n",
    "                  '60650009',\n",
    "                  '60650010',\n",
    "                  '60650016',\n",
    "                  '60650500',\n",
    "                  '60651010',\n",
    "                  '60651016',\n",
    "                  '60655001',\n",
    "                  '60656001',\n",
    "                  '60659000',\n",
    "                  '60659001',\n",
    "                  '60719002',\n",
    "                  '60731008',\n",
    "                  '60731201',\n",
    "                  '60371201',\n",
    "                  '60376012',\n",
    "                  '60830011',\n",
    "                  '60831013',\n",
    "                  '60831014',\n",
    "                  '60831018',\n",
    "                  '60831021',\n",
    "                  '60831025',\n",
    "                  '60832004',\n",
    "                  '60832011',\n",
    "                  '60833001',\n",
    "                  '60834003',\n",
    "                  '60839000',\n",
    "                  '61110007',\n",
    "                  '61110009',\n",
    "                  '61111004',\n",
    "                  '61112002',\n",
    "                  '61113001']\n",
    "\n",
    "all_indices = site_indices + site_indices_2"
   ]
  },
  {
   "cell_type": "code",
   "execution_count": null,
   "metadata": {
    "id": "7zySlvGVsRtM"
   },
   "outputs": [],
   "source": [
    "cloudy_labels = convert_sites_to_full_sites(cloudy_labels, all_indices)"
   ]
  },
  {
   "cell_type": "code",
   "execution_count": null,
   "metadata": {
    "id": "FSTQ1qMrsmD3"
   },
   "outputs": [],
   "source": [
    "cloudy_labels = cloudy_labels[[\"full_site\", \"cloud_cover\"]]"
   ]
  },
  {
   "cell_type": "code",
   "execution_count": 19,
   "metadata": {
    "executionInfo": {
     "elapsed": 559,
     "status": "ok",
     "timestamp": 1603910228272,
     "user": {
      "displayName": "Robert Schmidt",
      "photoUrl": "",
      "userId": "01672488058839739461"
     },
     "user_tz": 420
    },
    "id": "dvzy2ZyMsyQH"
   },
   "outputs": [],
   "source": [
    "labels[\"full_site\"] = labels[\"full_site\"].astype(str)"
   ]
  },
  {
   "cell_type": "code",
   "execution_count": 20,
   "metadata": {
    "colab": {
     "base_uri": "https://localhost:8080/"
    },
    "executionInfo": {
     "elapsed": 1228,
     "status": "ok",
     "timestamp": 1603910230864,
     "user": {
      "displayName": "Robert Schmidt",
      "photoUrl": "",
      "userId": "01672488058839739461"
     },
     "user_tz": 420
    },
    "id": "pxmbe0XpMfEP",
    "outputId": "6f4b1ccc-2047-45a8-e347-2d2a44412ac4"
   },
   "outputs": [
    {
     "data": {
      "text/plain": [
       "Counter({'county_site': 7202})"
      ]
     },
     "execution_count": 20,
     "metadata": {
      "tags": []
     },
     "output_type": "execute_result"
    }
   ],
   "source": [
    "import collections\n",
    "collections.Counter(labels.src_directory)"
   ]
  },
  {
   "cell_type": "code",
   "execution_count": 21,
   "metadata": {
    "executionInfo": {
     "elapsed": 501,
     "status": "ok",
     "timestamp": 1603910232533,
     "user": {
      "displayName": "Robert Schmidt",
      "photoUrl": "",
      "userId": "01672488058839739461"
     },
     "user_tz": 420
    },
    "id": "T9die17jM4p_"
   },
   "outputs": [],
   "source": [
    "labels.to_csv(os.path.join(project_root_dir, 'img_data', 'file_to_site_mapping.csv'), index = False)"
   ]
  }
 ],
 "metadata": {
  "colab": {
   "collapsed_sections": [],
   "name": "create_mapping_csv.ipynb",
   "provenance": []
  },
  "kernelspec": {
   "display_name": "Python 3",
   "language": "python",
   "name": "python3"
  },
  "language_info": {
   "codemirror_mode": {
    "name": "ipython",
    "version": 3
   },
   "file_extension": ".py",
   "mimetype": "text/x-python",
   "name": "python",
   "nbconvert_exporter": "python",
   "pygments_lexer": "ipython3",
   "version": "3.7.4"
  }
 },
 "nbformat": 4,
 "nbformat_minor": 1
}
